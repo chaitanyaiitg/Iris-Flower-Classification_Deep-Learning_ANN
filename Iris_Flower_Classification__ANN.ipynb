{
  "nbformat": 4,
  "nbformat_minor": 0,
  "metadata": {
    "colab": {
      "name": "Iris Flower Classification _ANN.ipynb",
      "provenance": [],
      "collapsed_sections": []
    },
    "kernelspec": {
      "name": "python3",
      "display_name": "Python 3"
    },
    "accelerator": "GPU"
  },
  "cells": [
    {
      "cell_type": "code",
      "metadata": {
        "id": "2iig0a3Sbm2i",
        "outputId": "f108558e-9c03-4a97-d713-59113a604c42",
        "colab": {
          "base_uri": "https://localhost:8080/",
          "height": 717
        }
      },
      "source": [
        "! pip install tensorflow-gpu"
      ],
      "execution_count": 1,
      "outputs": [
        {
          "output_type": "stream",
          "text": [
            "Collecting tensorflow-gpu\n",
            "\u001b[?25l  Downloading https://files.pythonhosted.org/packages/18/99/ac32fd13d56e40d4c3e6150030132519997c0bb1f06f448d970e81b177e5/tensorflow_gpu-2.3.1-cp36-cp36m-manylinux2010_x86_64.whl (320.4MB)\n",
            "\u001b[K     |████████████████████████████████| 320.4MB 54kB/s \n",
            "\u001b[?25hRequirement already satisfied: protobuf>=3.9.2 in /usr/local/lib/python3.6/dist-packages (from tensorflow-gpu) (3.12.4)\n",
            "Requirement already satisfied: astunparse==1.6.3 in /usr/local/lib/python3.6/dist-packages (from tensorflow-gpu) (1.6.3)\n",
            "Requirement already satisfied: wheel>=0.26 in /usr/local/lib/python3.6/dist-packages (from tensorflow-gpu) (0.35.1)\n",
            "Requirement already satisfied: google-pasta>=0.1.8 in /usr/local/lib/python3.6/dist-packages (from tensorflow-gpu) (0.2.0)\n",
            "Requirement already satisfied: wrapt>=1.11.1 in /usr/local/lib/python3.6/dist-packages (from tensorflow-gpu) (1.12.1)\n",
            "Requirement already satisfied: six>=1.12.0 in /usr/local/lib/python3.6/dist-packages (from tensorflow-gpu) (1.15.0)\n",
            "Requirement already satisfied: tensorboard<3,>=2.3.0 in /usr/local/lib/python3.6/dist-packages (from tensorflow-gpu) (2.3.0)\n",
            "Requirement already satisfied: tensorflow-estimator<2.4.0,>=2.3.0 in /usr/local/lib/python3.6/dist-packages (from tensorflow-gpu) (2.3.0)\n",
            "Requirement already satisfied: keras-preprocessing<1.2,>=1.1.1 in /usr/local/lib/python3.6/dist-packages (from tensorflow-gpu) (1.1.2)\n",
            "Requirement already satisfied: numpy<1.19.0,>=1.16.0 in /usr/local/lib/python3.6/dist-packages (from tensorflow-gpu) (1.18.5)\n",
            "Requirement already satisfied: opt-einsum>=2.3.2 in /usr/local/lib/python3.6/dist-packages (from tensorflow-gpu) (3.3.0)\n",
            "Requirement already satisfied: h5py<2.11.0,>=2.10.0 in /usr/local/lib/python3.6/dist-packages (from tensorflow-gpu) (2.10.0)\n",
            "Requirement already satisfied: grpcio>=1.8.6 in /usr/local/lib/python3.6/dist-packages (from tensorflow-gpu) (1.32.0)\n",
            "Requirement already satisfied: absl-py>=0.7.0 in /usr/local/lib/python3.6/dist-packages (from tensorflow-gpu) (0.10.0)\n",
            "Requirement already satisfied: gast==0.3.3 in /usr/local/lib/python3.6/dist-packages (from tensorflow-gpu) (0.3.3)\n",
            "Requirement already satisfied: termcolor>=1.1.0 in /usr/local/lib/python3.6/dist-packages (from tensorflow-gpu) (1.1.0)\n",
            "Requirement already satisfied: setuptools in /usr/local/lib/python3.6/dist-packages (from protobuf>=3.9.2->tensorflow-gpu) (50.3.0)\n",
            "Requirement already satisfied: tensorboard-plugin-wit>=1.6.0 in /usr/local/lib/python3.6/dist-packages (from tensorboard<3,>=2.3.0->tensorflow-gpu) (1.7.0)\n",
            "Requirement already satisfied: werkzeug>=0.11.15 in /usr/local/lib/python3.6/dist-packages (from tensorboard<3,>=2.3.0->tensorflow-gpu) (1.0.1)\n",
            "Requirement already satisfied: google-auth-oauthlib<0.5,>=0.4.1 in /usr/local/lib/python3.6/dist-packages (from tensorboard<3,>=2.3.0->tensorflow-gpu) (0.4.1)\n",
            "Requirement already satisfied: google-auth<2,>=1.6.3 in /usr/local/lib/python3.6/dist-packages (from tensorboard<3,>=2.3.0->tensorflow-gpu) (1.17.2)\n",
            "Requirement already satisfied: markdown>=2.6.8 in /usr/local/lib/python3.6/dist-packages (from tensorboard<3,>=2.3.0->tensorflow-gpu) (3.2.2)\n",
            "Requirement already satisfied: requests<3,>=2.21.0 in /usr/local/lib/python3.6/dist-packages (from tensorboard<3,>=2.3.0->tensorflow-gpu) (2.23.0)\n",
            "Requirement already satisfied: requests-oauthlib>=0.7.0 in /usr/local/lib/python3.6/dist-packages (from google-auth-oauthlib<0.5,>=0.4.1->tensorboard<3,>=2.3.0->tensorflow-gpu) (1.3.0)\n",
            "Requirement already satisfied: rsa<5,>=3.1.4; python_version >= \"3\" in /usr/local/lib/python3.6/dist-packages (from google-auth<2,>=1.6.3->tensorboard<3,>=2.3.0->tensorflow-gpu) (4.6)\n",
            "Requirement already satisfied: pyasn1-modules>=0.2.1 in /usr/local/lib/python3.6/dist-packages (from google-auth<2,>=1.6.3->tensorboard<3,>=2.3.0->tensorflow-gpu) (0.2.8)\n",
            "Requirement already satisfied: cachetools<5.0,>=2.0.0 in /usr/local/lib/python3.6/dist-packages (from google-auth<2,>=1.6.3->tensorboard<3,>=2.3.0->tensorflow-gpu) (4.1.1)\n",
            "Requirement already satisfied: importlib-metadata; python_version < \"3.8\" in /usr/local/lib/python3.6/dist-packages (from markdown>=2.6.8->tensorboard<3,>=2.3.0->tensorflow-gpu) (2.0.0)\n",
            "Requirement already satisfied: urllib3!=1.25.0,!=1.25.1,<1.26,>=1.21.1 in /usr/local/lib/python3.6/dist-packages (from requests<3,>=2.21.0->tensorboard<3,>=2.3.0->tensorflow-gpu) (1.24.3)\n",
            "Requirement already satisfied: idna<3,>=2.5 in /usr/local/lib/python3.6/dist-packages (from requests<3,>=2.21.0->tensorboard<3,>=2.3.0->tensorflow-gpu) (2.10)\n",
            "Requirement already satisfied: certifi>=2017.4.17 in /usr/local/lib/python3.6/dist-packages (from requests<3,>=2.21.0->tensorboard<3,>=2.3.0->tensorflow-gpu) (2020.6.20)\n",
            "Requirement already satisfied: chardet<4,>=3.0.2 in /usr/local/lib/python3.6/dist-packages (from requests<3,>=2.21.0->tensorboard<3,>=2.3.0->tensorflow-gpu) (3.0.4)\n",
            "Requirement already satisfied: oauthlib>=3.0.0 in /usr/local/lib/python3.6/dist-packages (from requests-oauthlib>=0.7.0->google-auth-oauthlib<0.5,>=0.4.1->tensorboard<3,>=2.3.0->tensorflow-gpu) (3.1.0)\n",
            "Requirement already satisfied: pyasn1>=0.1.3 in /usr/local/lib/python3.6/dist-packages (from rsa<5,>=3.1.4; python_version >= \"3\"->google-auth<2,>=1.6.3->tensorboard<3,>=2.3.0->tensorflow-gpu) (0.4.8)\n",
            "Requirement already satisfied: zipp>=0.5 in /usr/local/lib/python3.6/dist-packages (from importlib-metadata; python_version < \"3.8\"->markdown>=2.6.8->tensorboard<3,>=2.3.0->tensorflow-gpu) (3.2.0)\n",
            "Installing collected packages: tensorflow-gpu\n",
            "Successfully installed tensorflow-gpu-2.3.1\n"
          ],
          "name": "stdout"
        }
      ]
    },
    {
      "cell_type": "code",
      "metadata": {
        "id": "RLuJ3IyBbzUk",
        "outputId": "113ab503-cda5-4d0f-b1a4-5deecd7241ba",
        "colab": {
          "base_uri": "https://localhost:8080/",
          "height": 119
        }
      },
      "source": [
        "! pip install keras"
      ],
      "execution_count": 2,
      "outputs": [
        {
          "output_type": "stream",
          "text": [
            "Requirement already satisfied: keras in /usr/local/lib/python3.6/dist-packages (2.4.3)\n",
            "Requirement already satisfied: h5py in /usr/local/lib/python3.6/dist-packages (from keras) (2.10.0)\n",
            "Requirement already satisfied: scipy>=0.14 in /usr/local/lib/python3.6/dist-packages (from keras) (1.4.1)\n",
            "Requirement already satisfied: numpy>=1.9.1 in /usr/local/lib/python3.6/dist-packages (from keras) (1.18.5)\n",
            "Requirement already satisfied: pyyaml in /usr/local/lib/python3.6/dist-packages (from keras) (3.13)\n",
            "Requirement already satisfied: six in /usr/local/lib/python3.6/dist-packages (from h5py->keras) (1.15.0)\n"
          ],
          "name": "stdout"
        }
      ]
    },
    {
      "cell_type": "code",
      "metadata": {
        "id": "CBH6WN3Db5qw",
        "outputId": "0569a824-7d0b-4882-c666-ddf7781f2a7b",
        "colab": {
          "base_uri": "https://localhost:8080/",
          "height": 102
        }
      },
      "source": [
        "! pip install pandas"
      ],
      "execution_count": 3,
      "outputs": [
        {
          "output_type": "stream",
          "text": [
            "Requirement already satisfied: pandas in /usr/local/lib/python3.6/dist-packages (1.1.2)\n",
            "Requirement already satisfied: numpy>=1.15.4 in /usr/local/lib/python3.6/dist-packages (from pandas) (1.18.5)\n",
            "Requirement already satisfied: pytz>=2017.2 in /usr/local/lib/python3.6/dist-packages (from pandas) (2018.9)\n",
            "Requirement already satisfied: python-dateutil>=2.7.3 in /usr/local/lib/python3.6/dist-packages (from pandas) (2.8.1)\n",
            "Requirement already satisfied: six>=1.5 in /usr/local/lib/python3.6/dist-packages (from python-dateutil>=2.7.3->pandas) (1.15.0)\n"
          ],
          "name": "stdout"
        }
      ]
    },
    {
      "cell_type": "code",
      "metadata": {
        "id": "lPqXRMj_b5wC",
        "outputId": "9e2269ea-a73a-4153-8eee-33b824a0fbc8",
        "colab": {
          "base_uri": "https://localhost:8080/",
          "height": 139
        }
      },
      "source": [
        "import matplotlib.pylab as plt\n",
        "import numpy as np\n",
        "import tensorflow_hub as hub\n",
        "import tensorflow as tf\n",
        "print(\"TF version:\", tf.__version__)\n",
        "print(\"Hub version:\", hub.__version__)\n",
        "print(\"GPU is\", \"available\" if tf.test.is_gpu_available() else \"NOT AVAILABLE\")"
      ],
      "execution_count": 4,
      "outputs": [
        {
          "output_type": "stream",
          "text": [
            "TF version: 2.3.1\n",
            "Hub version: 0.9.0\n",
            "WARNING:tensorflow:From <ipython-input-4-c62ce35fd0be>:7: is_gpu_available (from tensorflow.python.framework.test_util) is deprecated and will be removed in a future version.\n",
            "Instructions for updating:\n",
            "Use `tf.config.list_physical_devices('GPU')` instead.\n",
            "GPU is available\n"
          ],
          "name": "stdout"
        }
      ]
    },
    {
      "cell_type": "code",
      "metadata": {
        "id": "izjchs6sb51O"
      },
      "source": [
        "from tensorflow.keras.layers import Input, Lambda, Dense, Flatten,Conv2D,MaxPooling2D\n",
        "from tensorflow.keras.models import Model\n",
        "from tensorflow.keras.preprocessing import image\n",
        "from tensorflow.keras.preprocessing.image import ImageDataGenerator,load_img\n",
        "from tensorflow.keras.models import Sequential\n",
        "from glob import glob\n"
      ],
      "execution_count": 5,
      "outputs": []
    },
    {
      "cell_type": "code",
      "metadata": {
        "id": "MgdvwuWPb56c"
      },
      "source": [
        "from sklearn.utils import shuffle\n",
        "from sklearn.metrics import classification_report\n",
        "from sklearn.model_selection import train_test_split\n",
        "from sklearn.metrics import confusion_matrix,accuracy_score\n",
        "import os\n",
        "import cv2"
      ],
      "execution_count": 6,
      "outputs": []
    },
    {
      "cell_type": "code",
      "metadata": {
        "id": "qBNVQkSVb5_d",
        "outputId": "0d0b910f-213a-4185-b809-55dd5bde206d",
        "colab": {
          "base_uri": "https://localhost:8080/",
          "height": 34
        }
      },
      "source": [
        "from google.colab import drive\n",
        "drive.mount('/content/drive')"
      ],
      "execution_count": null,
      "outputs": [
        {
          "output_type": "stream",
          "text": [
            "Drive already mounted at /content/drive; to attempt to forcibly remount, call drive.mount(\"/content/drive\", force_remount=True).\n"
          ],
          "name": "stdout"
        }
      ]
    },
    {
      "cell_type": "code",
      "metadata": {
        "id": "cUPoix_vb6KO"
      },
      "source": [
        "import pandas as pd\n",
        "from sklearn.datasets import load_iris\n",
        "iris=load_iris()"
      ],
      "execution_count": 7,
      "outputs": []
    },
    {
      "cell_type": "code",
      "metadata": {
        "id": "MVqnBFu6hN2c",
        "outputId": "ff1df95a-d3d9-47d5-fbf0-3582c5587f82",
        "colab": {
          "base_uri": "https://localhost:8080/",
          "height": 34
        }
      },
      "source": [
        "dir(iris)"
      ],
      "execution_count": 8,
      "outputs": [
        {
          "output_type": "execute_result",
          "data": {
            "text/plain": [
              "['DESCR', 'data', 'feature_names', 'filename', 'target', 'target_names']"
            ]
          },
          "metadata": {
            "tags": []
          },
          "execution_count": 8
        }
      ]
    },
    {
      "cell_type": "code",
      "metadata": {
        "id": "4cIWdH2SVBPE",
        "outputId": "80019156-f78b-441b-e126-eff4f15cc35e",
        "colab": {
          "base_uri": "https://localhost:8080/",
          "height": 419
        }
      },
      "source": [
        "df=pd.DataFrame(iris['data'],columns=iris['feature_names'])\n",
        "df"
      ],
      "execution_count": 9,
      "outputs": [
        {
          "output_type": "execute_result",
          "data": {
            "text/html": [
              "<div>\n",
              "<style scoped>\n",
              "    .dataframe tbody tr th:only-of-type {\n",
              "        vertical-align: middle;\n",
              "    }\n",
              "\n",
              "    .dataframe tbody tr th {\n",
              "        vertical-align: top;\n",
              "    }\n",
              "\n",
              "    .dataframe thead th {\n",
              "        text-align: right;\n",
              "    }\n",
              "</style>\n",
              "<table border=\"1\" class=\"dataframe\">\n",
              "  <thead>\n",
              "    <tr style=\"text-align: right;\">\n",
              "      <th></th>\n",
              "      <th>sepal length (cm)</th>\n",
              "      <th>sepal width (cm)</th>\n",
              "      <th>petal length (cm)</th>\n",
              "      <th>petal width (cm)</th>\n",
              "    </tr>\n",
              "  </thead>\n",
              "  <tbody>\n",
              "    <tr>\n",
              "      <th>0</th>\n",
              "      <td>5.1</td>\n",
              "      <td>3.5</td>\n",
              "      <td>1.4</td>\n",
              "      <td>0.2</td>\n",
              "    </tr>\n",
              "    <tr>\n",
              "      <th>1</th>\n",
              "      <td>4.9</td>\n",
              "      <td>3.0</td>\n",
              "      <td>1.4</td>\n",
              "      <td>0.2</td>\n",
              "    </tr>\n",
              "    <tr>\n",
              "      <th>2</th>\n",
              "      <td>4.7</td>\n",
              "      <td>3.2</td>\n",
              "      <td>1.3</td>\n",
              "      <td>0.2</td>\n",
              "    </tr>\n",
              "    <tr>\n",
              "      <th>3</th>\n",
              "      <td>4.6</td>\n",
              "      <td>3.1</td>\n",
              "      <td>1.5</td>\n",
              "      <td>0.2</td>\n",
              "    </tr>\n",
              "    <tr>\n",
              "      <th>4</th>\n",
              "      <td>5.0</td>\n",
              "      <td>3.6</td>\n",
              "      <td>1.4</td>\n",
              "      <td>0.2</td>\n",
              "    </tr>\n",
              "    <tr>\n",
              "      <th>...</th>\n",
              "      <td>...</td>\n",
              "      <td>...</td>\n",
              "      <td>...</td>\n",
              "      <td>...</td>\n",
              "    </tr>\n",
              "    <tr>\n",
              "      <th>145</th>\n",
              "      <td>6.7</td>\n",
              "      <td>3.0</td>\n",
              "      <td>5.2</td>\n",
              "      <td>2.3</td>\n",
              "    </tr>\n",
              "    <tr>\n",
              "      <th>146</th>\n",
              "      <td>6.3</td>\n",
              "      <td>2.5</td>\n",
              "      <td>5.0</td>\n",
              "      <td>1.9</td>\n",
              "    </tr>\n",
              "    <tr>\n",
              "      <th>147</th>\n",
              "      <td>6.5</td>\n",
              "      <td>3.0</td>\n",
              "      <td>5.2</td>\n",
              "      <td>2.0</td>\n",
              "    </tr>\n",
              "    <tr>\n",
              "      <th>148</th>\n",
              "      <td>6.2</td>\n",
              "      <td>3.4</td>\n",
              "      <td>5.4</td>\n",
              "      <td>2.3</td>\n",
              "    </tr>\n",
              "    <tr>\n",
              "      <th>149</th>\n",
              "      <td>5.9</td>\n",
              "      <td>3.0</td>\n",
              "      <td>5.1</td>\n",
              "      <td>1.8</td>\n",
              "    </tr>\n",
              "  </tbody>\n",
              "</table>\n",
              "<p>150 rows × 4 columns</p>\n",
              "</div>"
            ],
            "text/plain": [
              "     sepal length (cm)  sepal width (cm)  petal length (cm)  petal width (cm)\n",
              "0                  5.1               3.5                1.4               0.2\n",
              "1                  4.9               3.0                1.4               0.2\n",
              "2                  4.7               3.2                1.3               0.2\n",
              "3                  4.6               3.1                1.5               0.2\n",
              "4                  5.0               3.6                1.4               0.2\n",
              "..                 ...               ...                ...               ...\n",
              "145                6.7               3.0                5.2               2.3\n",
              "146                6.3               2.5                5.0               1.9\n",
              "147                6.5               3.0                5.2               2.0\n",
              "148                6.2               3.4                5.4               2.3\n",
              "149                5.9               3.0                5.1               1.8\n",
              "\n",
              "[150 rows x 4 columns]"
            ]
          },
          "metadata": {
            "tags": []
          },
          "execution_count": 9
        }
      ]
    },
    {
      "cell_type": "code",
      "metadata": {
        "id": "28APPa78VIpc"
      },
      "source": [
        "df['flower_id']=iris['target']"
      ],
      "execution_count": 10,
      "outputs": []
    },
    {
      "cell_type": "code",
      "metadata": {
        "id": "LXri45CLVpPq",
        "outputId": "03cd8de8-f827-41ee-f907-886584f2c8bf",
        "colab": {
          "base_uri": "https://localhost:8080/",
          "height": 419
        }
      },
      "source": [
        "df"
      ],
      "execution_count": 11,
      "outputs": [
        {
          "output_type": "execute_result",
          "data": {
            "text/html": [
              "<div>\n",
              "<style scoped>\n",
              "    .dataframe tbody tr th:only-of-type {\n",
              "        vertical-align: middle;\n",
              "    }\n",
              "\n",
              "    .dataframe tbody tr th {\n",
              "        vertical-align: top;\n",
              "    }\n",
              "\n",
              "    .dataframe thead th {\n",
              "        text-align: right;\n",
              "    }\n",
              "</style>\n",
              "<table border=\"1\" class=\"dataframe\">\n",
              "  <thead>\n",
              "    <tr style=\"text-align: right;\">\n",
              "      <th></th>\n",
              "      <th>sepal length (cm)</th>\n",
              "      <th>sepal width (cm)</th>\n",
              "      <th>petal length (cm)</th>\n",
              "      <th>petal width (cm)</th>\n",
              "      <th>flower_id</th>\n",
              "    </tr>\n",
              "  </thead>\n",
              "  <tbody>\n",
              "    <tr>\n",
              "      <th>0</th>\n",
              "      <td>5.1</td>\n",
              "      <td>3.5</td>\n",
              "      <td>1.4</td>\n",
              "      <td>0.2</td>\n",
              "      <td>0</td>\n",
              "    </tr>\n",
              "    <tr>\n",
              "      <th>1</th>\n",
              "      <td>4.9</td>\n",
              "      <td>3.0</td>\n",
              "      <td>1.4</td>\n",
              "      <td>0.2</td>\n",
              "      <td>0</td>\n",
              "    </tr>\n",
              "    <tr>\n",
              "      <th>2</th>\n",
              "      <td>4.7</td>\n",
              "      <td>3.2</td>\n",
              "      <td>1.3</td>\n",
              "      <td>0.2</td>\n",
              "      <td>0</td>\n",
              "    </tr>\n",
              "    <tr>\n",
              "      <th>3</th>\n",
              "      <td>4.6</td>\n",
              "      <td>3.1</td>\n",
              "      <td>1.5</td>\n",
              "      <td>0.2</td>\n",
              "      <td>0</td>\n",
              "    </tr>\n",
              "    <tr>\n",
              "      <th>4</th>\n",
              "      <td>5.0</td>\n",
              "      <td>3.6</td>\n",
              "      <td>1.4</td>\n",
              "      <td>0.2</td>\n",
              "      <td>0</td>\n",
              "    </tr>\n",
              "    <tr>\n",
              "      <th>...</th>\n",
              "      <td>...</td>\n",
              "      <td>...</td>\n",
              "      <td>...</td>\n",
              "      <td>...</td>\n",
              "      <td>...</td>\n",
              "    </tr>\n",
              "    <tr>\n",
              "      <th>145</th>\n",
              "      <td>6.7</td>\n",
              "      <td>3.0</td>\n",
              "      <td>5.2</td>\n",
              "      <td>2.3</td>\n",
              "      <td>2</td>\n",
              "    </tr>\n",
              "    <tr>\n",
              "      <th>146</th>\n",
              "      <td>6.3</td>\n",
              "      <td>2.5</td>\n",
              "      <td>5.0</td>\n",
              "      <td>1.9</td>\n",
              "      <td>2</td>\n",
              "    </tr>\n",
              "    <tr>\n",
              "      <th>147</th>\n",
              "      <td>6.5</td>\n",
              "      <td>3.0</td>\n",
              "      <td>5.2</td>\n",
              "      <td>2.0</td>\n",
              "      <td>2</td>\n",
              "    </tr>\n",
              "    <tr>\n",
              "      <th>148</th>\n",
              "      <td>6.2</td>\n",
              "      <td>3.4</td>\n",
              "      <td>5.4</td>\n",
              "      <td>2.3</td>\n",
              "      <td>2</td>\n",
              "    </tr>\n",
              "    <tr>\n",
              "      <th>149</th>\n",
              "      <td>5.9</td>\n",
              "      <td>3.0</td>\n",
              "      <td>5.1</td>\n",
              "      <td>1.8</td>\n",
              "      <td>2</td>\n",
              "    </tr>\n",
              "  </tbody>\n",
              "</table>\n",
              "<p>150 rows × 5 columns</p>\n",
              "</div>"
            ],
            "text/plain": [
              "     sepal length (cm)  sepal width (cm)  ...  petal width (cm)  flower_id\n",
              "0                  5.1               3.5  ...               0.2          0\n",
              "1                  4.9               3.0  ...               0.2          0\n",
              "2                  4.7               3.2  ...               0.2          0\n",
              "3                  4.6               3.1  ...               0.2          0\n",
              "4                  5.0               3.6  ...               0.2          0\n",
              "..                 ...               ...  ...               ...        ...\n",
              "145                6.7               3.0  ...               2.3          2\n",
              "146                6.3               2.5  ...               1.9          2\n",
              "147                6.5               3.0  ...               2.0          2\n",
              "148                6.2               3.4  ...               2.3          2\n",
              "149                5.9               3.0  ...               1.8          2\n",
              "\n",
              "[150 rows x 5 columns]"
            ]
          },
          "metadata": {
            "tags": []
          },
          "execution_count": 11
        }
      ]
    },
    {
      "cell_type": "code",
      "metadata": {
        "id": "fgqAoh6VeRg4"
      },
      "source": [
        "df['flower_name']=df['flower_id'].apply(lambda x: iris['target_names'][x])"
      ],
      "execution_count": 17,
      "outputs": []
    },
    {
      "cell_type": "code",
      "metadata": {
        "id": "li6eTv2vexGm",
        "outputId": "b7ca5534-9a17-488f-e4c9-cbf85027744c",
        "colab": {
          "base_uri": "https://localhost:8080/",
          "height": 419
        }
      },
      "source": [
        "df"
      ],
      "execution_count": 18,
      "outputs": [
        {
          "output_type": "execute_result",
          "data": {
            "text/html": [
              "<div>\n",
              "<style scoped>\n",
              "    .dataframe tbody tr th:only-of-type {\n",
              "        vertical-align: middle;\n",
              "    }\n",
              "\n",
              "    .dataframe tbody tr th {\n",
              "        vertical-align: top;\n",
              "    }\n",
              "\n",
              "    .dataframe thead th {\n",
              "        text-align: right;\n",
              "    }\n",
              "</style>\n",
              "<table border=\"1\" class=\"dataframe\">\n",
              "  <thead>\n",
              "    <tr style=\"text-align: right;\">\n",
              "      <th></th>\n",
              "      <th>sepal length (cm)</th>\n",
              "      <th>sepal width (cm)</th>\n",
              "      <th>petal length (cm)</th>\n",
              "      <th>petal width (cm)</th>\n",
              "      <th>flower_id</th>\n",
              "      <th>flower_name</th>\n",
              "    </tr>\n",
              "  </thead>\n",
              "  <tbody>\n",
              "    <tr>\n",
              "      <th>0</th>\n",
              "      <td>5.1</td>\n",
              "      <td>3.5</td>\n",
              "      <td>1.4</td>\n",
              "      <td>0.2</td>\n",
              "      <td>0</td>\n",
              "      <td>setosa</td>\n",
              "    </tr>\n",
              "    <tr>\n",
              "      <th>1</th>\n",
              "      <td>4.9</td>\n",
              "      <td>3.0</td>\n",
              "      <td>1.4</td>\n",
              "      <td>0.2</td>\n",
              "      <td>0</td>\n",
              "      <td>setosa</td>\n",
              "    </tr>\n",
              "    <tr>\n",
              "      <th>2</th>\n",
              "      <td>4.7</td>\n",
              "      <td>3.2</td>\n",
              "      <td>1.3</td>\n",
              "      <td>0.2</td>\n",
              "      <td>0</td>\n",
              "      <td>setosa</td>\n",
              "    </tr>\n",
              "    <tr>\n",
              "      <th>3</th>\n",
              "      <td>4.6</td>\n",
              "      <td>3.1</td>\n",
              "      <td>1.5</td>\n",
              "      <td>0.2</td>\n",
              "      <td>0</td>\n",
              "      <td>setosa</td>\n",
              "    </tr>\n",
              "    <tr>\n",
              "      <th>4</th>\n",
              "      <td>5.0</td>\n",
              "      <td>3.6</td>\n",
              "      <td>1.4</td>\n",
              "      <td>0.2</td>\n",
              "      <td>0</td>\n",
              "      <td>setosa</td>\n",
              "    </tr>\n",
              "    <tr>\n",
              "      <th>...</th>\n",
              "      <td>...</td>\n",
              "      <td>...</td>\n",
              "      <td>...</td>\n",
              "      <td>...</td>\n",
              "      <td>...</td>\n",
              "      <td>...</td>\n",
              "    </tr>\n",
              "    <tr>\n",
              "      <th>145</th>\n",
              "      <td>6.7</td>\n",
              "      <td>3.0</td>\n",
              "      <td>5.2</td>\n",
              "      <td>2.3</td>\n",
              "      <td>2</td>\n",
              "      <td>virginica</td>\n",
              "    </tr>\n",
              "    <tr>\n",
              "      <th>146</th>\n",
              "      <td>6.3</td>\n",
              "      <td>2.5</td>\n",
              "      <td>5.0</td>\n",
              "      <td>1.9</td>\n",
              "      <td>2</td>\n",
              "      <td>virginica</td>\n",
              "    </tr>\n",
              "    <tr>\n",
              "      <th>147</th>\n",
              "      <td>6.5</td>\n",
              "      <td>3.0</td>\n",
              "      <td>5.2</td>\n",
              "      <td>2.0</td>\n",
              "      <td>2</td>\n",
              "      <td>virginica</td>\n",
              "    </tr>\n",
              "    <tr>\n",
              "      <th>148</th>\n",
              "      <td>6.2</td>\n",
              "      <td>3.4</td>\n",
              "      <td>5.4</td>\n",
              "      <td>2.3</td>\n",
              "      <td>2</td>\n",
              "      <td>virginica</td>\n",
              "    </tr>\n",
              "    <tr>\n",
              "      <th>149</th>\n",
              "      <td>5.9</td>\n",
              "      <td>3.0</td>\n",
              "      <td>5.1</td>\n",
              "      <td>1.8</td>\n",
              "      <td>2</td>\n",
              "      <td>virginica</td>\n",
              "    </tr>\n",
              "  </tbody>\n",
              "</table>\n",
              "<p>150 rows × 6 columns</p>\n",
              "</div>"
            ],
            "text/plain": [
              "     sepal length (cm)  sepal width (cm)  ...  flower_id  flower_name\n",
              "0                  5.1               3.5  ...          0       setosa\n",
              "1                  4.9               3.0  ...          0       setosa\n",
              "2                  4.7               3.2  ...          0       setosa\n",
              "3                  4.6               3.1  ...          0       setosa\n",
              "4                  5.0               3.6  ...          0       setosa\n",
              "..                 ...               ...  ...        ...          ...\n",
              "145                6.7               3.0  ...          2    virginica\n",
              "146                6.3               2.5  ...          2    virginica\n",
              "147                6.5               3.0  ...          2    virginica\n",
              "148                6.2               3.4  ...          2    virginica\n",
              "149                5.9               3.0  ...          2    virginica\n",
              "\n",
              "[150 rows x 6 columns]"
            ]
          },
          "metadata": {
            "tags": []
          },
          "execution_count": 18
        }
      ]
    },
    {
      "cell_type": "code",
      "metadata": {
        "id": "4RtuEDIKrI5I",
        "outputId": "8fd8cbce-b275-4422-cbe3-aefd8d479f65",
        "colab": {
          "base_uri": "https://localhost:8080/",
          "height": 34
        }
      },
      "source": [
        "df.shape"
      ],
      "execution_count": 19,
      "outputs": [
        {
          "output_type": "execute_result",
          "data": {
            "text/plain": [
              "(150, 6)"
            ]
          },
          "metadata": {
            "tags": []
          },
          "execution_count": 19
        }
      ]
    },
    {
      "cell_type": "code",
      "metadata": {
        "id": "VZVD9RBtWewj",
        "outputId": "7971022f-4c4f-4821-f639-e220a18d7e6b",
        "colab": {
          "base_uri": "https://localhost:8080/",
          "height": 34
        }
      },
      "source": [
        "iris['target_names']"
      ],
      "execution_count": 20,
      "outputs": [
        {
          "output_type": "execute_result",
          "data": {
            "text/plain": [
              "array(['setosa', 'versicolor', 'virginica'], dtype='<U10')"
            ]
          },
          "metadata": {
            "tags": []
          },
          "execution_count": 20
        }
      ]
    },
    {
      "cell_type": "code",
      "metadata": {
        "id": "fPUrEV8NhCJA",
        "outputId": "5b3d2fba-256c-4842-dc30-714f6ca4f66e",
        "colab": {
          "base_uri": "https://localhost:8080/",
          "height": 68
        }
      },
      "source": [
        "df.columns"
      ],
      "execution_count": 21,
      "outputs": [
        {
          "output_type": "execute_result",
          "data": {
            "text/plain": [
              "Index(['sepal length (cm)', 'sepal width (cm)', 'petal length (cm)',\n",
              "       'petal width (cm)', 'flower_id', 'flower_name'],\n",
              "      dtype='object')"
            ]
          },
          "metadata": {
            "tags": []
          },
          "execution_count": 21
        }
      ]
    },
    {
      "cell_type": "code",
      "metadata": {
        "id": "9RYxY1cRmtVx",
        "outputId": "97442c8c-5068-4a62-a4a7-7243e47bfe9c",
        "colab": {
          "base_uri": "https://localhost:8080/",
          "height": 136
        }
      },
      "source": [
        "df.isnull().sum()"
      ],
      "execution_count": 22,
      "outputs": [
        {
          "output_type": "execute_result",
          "data": {
            "text/plain": [
              "sepal length (cm)    0\n",
              "sepal width (cm)     0\n",
              "petal length (cm)    0\n",
              "petal width (cm)     0\n",
              "flower_id            0\n",
              "flower_name          0\n",
              "dtype: int64"
            ]
          },
          "metadata": {
            "tags": []
          },
          "execution_count": 22
        }
      ]
    },
    {
      "cell_type": "code",
      "metadata": {
        "id": "gzX2O-RUhgbV",
        "outputId": "6ce94764-1ac2-46bf-bbc1-9071b83b62e3",
        "colab": {
          "base_uri": "https://localhost:8080/",
          "height": 136
        }
      },
      "source": [
        "df.nunique()"
      ],
      "execution_count": 23,
      "outputs": [
        {
          "output_type": "execute_result",
          "data": {
            "text/plain": [
              "sepal length (cm)    35\n",
              "sepal width (cm)     23\n",
              "petal length (cm)    43\n",
              "petal width (cm)     22\n",
              "flower_id             3\n",
              "flower_name           3\n",
              "dtype: int64"
            ]
          },
          "metadata": {
            "tags": []
          },
          "execution_count": 23
        }
      ]
    },
    {
      "cell_type": "code",
      "metadata": {
        "id": "8OMJbk2ChgrZ",
        "outputId": "5c34a018-e18f-4a7a-841c-e51128cae106",
        "colab": {
          "base_uri": "https://localhost:8080/",
          "height": 136
        }
      },
      "source": [
        "df.dtypes"
      ],
      "execution_count": 24,
      "outputs": [
        {
          "output_type": "execute_result",
          "data": {
            "text/plain": [
              "sepal length (cm)    float64\n",
              "sepal width (cm)     float64\n",
              "petal length (cm)    float64\n",
              "petal width (cm)     float64\n",
              "flower_id              int64\n",
              "flower_name           object\n",
              "dtype: object"
            ]
          },
          "metadata": {
            "tags": []
          },
          "execution_count": 24
        }
      ]
    },
    {
      "cell_type": "code",
      "metadata": {
        "id": "4QI5yOMthggM",
        "outputId": "84438555-a6e2-49c8-e618-50d6fdc83afb",
        "colab": {
          "base_uri": "https://localhost:8080/",
          "height": 364
        }
      },
      "source": [
        "import matplotlib.pyplot as plt\n",
        "%matplotlib inline\n",
        "import seaborn as sns\n",
        "sns.heatmap(df.isnull())"
      ],
      "execution_count": 25,
      "outputs": [
        {
          "output_type": "execute_result",
          "data": {
            "text/plain": [
              "<matplotlib.axes._subplots.AxesSubplot at 0x7f6b6429f160>"
            ]
          },
          "metadata": {
            "tags": []
          },
          "execution_count": 25
        },
        {
          "output_type": "display_data",
          "data": {
            "image/png": "[encoded data removed]",
            "text/plain": [
              "<Figure size 432x288 with 2 Axes>"
            ]
          },
          "metadata": {
            "tags": [],
            "needs_background": "light"
          }
        }
      ]
    },
    {
      "cell_type": "code",
      "metadata": {
        "id": "-ci_pLMNrtMi"
      },
      "source": [
        "from sklearn.preprocessing import LabelEncoder\n",
        "encoder=LabelEncoder()"
      ],
      "execution_count": null,
      "outputs": []
    },
    {
      "cell_type": "code",
      "metadata": {
        "id": "4l3O1D2I5xSb"
      },
      "source": [
        "X = df.drop(['flower_id','flower_name'],axis='columns')\n",
        "y = df['flower_id']\n",
        "\n",
        "from sklearn.model_selection import train_test_split\n",
        "X_train, X_test, y_train, y_test = train_test_split(X,y,test_size=0.3,random_state=10)"
      ],
      "execution_count": 26,
      "outputs": []
    },
    {
      "cell_type": "code",
      "metadata": {
        "id": "b4kNtqpmfsmy"
      },
      "source": [
        "from sklearn.preprocessing import StandardScaler\n",
        "s=StandardScaler()\n",
        "X_train=s.fit_transform(X_train)\n",
        "X_test=s.transform(X_test)"
      ],
      "execution_count": 28,
      "outputs": []
    },
    {
      "cell_type": "code",
      "metadata": {
        "id": "eu10tJQgftUr"
      },
      "source": [
        ""
      ],
      "execution_count": null,
      "outputs": []
    },
    {
      "cell_type": "code",
      "metadata": {
        "id": "Mtoqgg47bPw1"
      },
      "source": [
        "from tensorflow.keras.utils import to_categorical\n",
        "y_train = to_categorical(y_train)\n",
        "y_test = to_categorical(y_test) "
      ],
      "execution_count": 29,
      "outputs": []
    },
    {
      "cell_type": "code",
      "metadata": {
        "id": "Jftbg2kV5xOt",
        "outputId": "50b7c8e5-63c2-4ab6-bcb8-910d434c4c0a",
        "colab": {
          "base_uri": "https://localhost:8080/",
          "height": 34
        }
      },
      "source": [
        "\n",
        "X_train.shape"
      ],
      "execution_count": 30,
      "outputs": [
        {
          "output_type": "execute_result",
          "data": {
            "text/plain": [
              "(105, 4)"
            ]
          },
          "metadata": {
            "tags": []
          },
          "execution_count": 30
        }
      ]
    },
    {
      "cell_type": "code",
      "metadata": {
        "id": "SrYVvTAd9FUY",
        "outputId": "9436d933-1ec2-4efd-9146-7824aa6a3c06",
        "colab": {
          "base_uri": "https://localhost:8080/",
          "height": 34
        }
      },
      "source": [
        "X_test.shape"
      ],
      "execution_count": 31,
      "outputs": [
        {
          "output_type": "execute_result",
          "data": {
            "text/plain": [
              "(45, 4)"
            ]
          },
          "metadata": {
            "tags": []
          },
          "execution_count": 31
        }
      ]
    },
    {
      "cell_type": "code",
      "metadata": {
        "id": "JV9vnRf15xLu",
        "outputId": "191587cc-3680-4816-c7ad-31981a45ecdc",
        "colab": {
          "base_uri": "https://localhost:8080/",
          "height": 1000
        }
      },
      "source": [
        "X_train"
      ],
      "execution_count": 34,
      "outputs": [
        {
          "output_type": "execute_result",
          "data": {
            "text/plain": [
              "array([[-0.78847931,  2.2916743 , -1.25456793, -1.40976967],\n",
              "       [ 1.29661042,  0.0322771 ,  0.66355092,  0.41288769],\n",
              "       [ 0.07008705,  0.25821682,  0.60713566,  0.80345712],\n",
              "       [-0.29786996, -0.64554206,  0.66355092,  1.06383675],\n",
              "       [ 1.05130574,  0.48415654,  1.114873  ,  1.7147858 ],\n",
              "       [ 0.43804406, -2.00118037,  0.43788988,  0.41288769],\n",
              "       [ 1.66456743,  1.1619757 ,  1.34053404,  1.7147858 ],\n",
              "       [-0.4205223 , -1.54930093, -0.0134322 , -0.23806137],\n",
              "       [ 0.19273939, -0.41960234,  0.43788988,  0.41288769],\n",
              "       [ 0.68334873,  0.25821682,  0.43788988,  0.41288769],\n",
              "       [-0.05256529,  2.06573458, -1.42381371, -1.27957986],\n",
              "       [-0.66582697,  1.38791542, -1.25456793, -1.27957986],\n",
              "       [ 0.31539172, -0.41960234,  0.5507204 ,  0.28269788],\n",
              "       [-0.54317463,  0.71009626, -1.14173741, -1.27957986],\n",
              "       [ 0.68334873,  0.0322771 ,  1.00204248,  0.80345712],\n",
              "       [-1.40174099,  0.25821682, -1.19815267, -1.27957986],\n",
              "       [-1.52439333,  0.0322771 , -1.25456793, -1.27957986],\n",
              "       [-1.15643632, -1.32336121,  0.43788988,  0.67326731],\n",
              "       [-0.91113164, -1.32336121, -0.40833903, -0.10787156],\n",
              "       [ 1.05130574,  0.0322771 ,  1.05845774,  1.58459599],\n",
              "       [-1.15643632,  1.1619757 , -1.31098319, -1.40976967],\n",
              "       [ 1.29661042,  0.0322771 ,  0.94562722,  1.19402656],\n",
              "       [-1.27908866, -0.19366262, -1.31098319, -1.14939005],\n",
              "       [-0.05256529, -0.87148177,  0.09939832,  0.02231825],\n",
              "       [ 0.19273939, -0.87148177,  0.77638144,  0.5430775 ],\n",
              "       [-1.769698  ,  0.25821682, -1.36739845, -1.27957986],\n",
              "       [ 1.17395808,  0.25821682,  1.22770352,  1.45440618],\n",
              "       [ 2.52313379,  1.61385514,  1.50977982,  1.06383675],\n",
              "       [ 0.80600107, -0.19366262,  1.00204248,  0.80345712],\n",
              "       [ 2.15517678, -0.19366262,  1.62261034,  1.19402656],\n",
              "       [ 0.5606964 , -0.64554206,  0.77638144,  0.41288769],\n",
              "       [-1.52439333,  0.71009626, -1.31098319, -1.14939005],\n",
              "       [-0.17521762, -1.09742149, -0.12626273, -0.23806137],\n",
              "       [ 1.05130574, -1.32336121,  1.17128826,  0.80345712],\n",
              "       [-0.17521762, -0.64554206,  0.21222884,  0.15250807],\n",
              "       [-1.15643632,  0.0322771 , -1.25456793, -1.27957986],\n",
              "       [ 0.68334873, -0.64554206,  1.05845774,  1.19402656],\n",
              "       [ 1.41926275,  0.25821682,  0.5507204 ,  0.28269788],\n",
              "       [-0.17521762, -0.41960234,  0.2686441 ,  0.15250807],\n",
              "       [-1.03378398,  1.1619757 , -1.31098319, -1.27957986],\n",
              "       [-0.54317463,  1.83979486, -1.14173741, -1.01920024],\n",
              "       [-0.91113164,  1.61385514, -1.02890689, -1.01920024],\n",
              "       [-0.54317463, -0.19366262,  0.43788988,  0.41288769],\n",
              "       [ 1.9098721 , -0.64554206,  1.34053404,  0.93364693],\n",
              "       [ 0.5606964 , -0.41960234,  1.05845774,  0.80345712],\n",
              "       [ 0.92865341, -0.19366262,  0.38147462,  0.28269788],\n",
              "       [-1.03378398,  0.71009626, -1.25456793, -1.27957986],\n",
              "       [-0.91113164,  1.61385514, -1.19815267, -1.27957986],\n",
              "       [-0.91113164,  0.93603598, -1.31098319, -1.14939005],\n",
              "       [ 0.80600107, -0.19366262,  1.17128826,  1.32421637],\n",
              "       [-0.05256529, -0.87148177,  0.77638144,  0.93364693],\n",
              "       [ 0.31539172, -0.64554206,  0.15581358,  0.15250807],\n",
              "       [-0.4205223 , -1.54930093,  0.04298306, -0.10787156],\n",
              "       [ 0.80600107,  0.25821682,  0.77638144,  1.06383675],\n",
              "       [ 0.80600107, -0.19366262,  0.8327967 ,  1.06383675],\n",
              "       [ 0.07008705, -0.19366262,  0.77638144,  0.80345712],\n",
              "       [ 0.31539172, -1.09742149,  1.05845774,  0.28269788],\n",
              "       [ 0.68334873, -0.41960234,  0.32505936,  0.15250807],\n",
              "       [-0.78847931,  0.71009626, -1.31098319, -1.27957986],\n",
              "       [-1.27908866,  0.71009626, -1.19815267, -1.27957986],\n",
              "       [-0.29786996, -0.87148177,  0.2686441 ,  0.15250807],\n",
              "       [-0.91113164,  0.48415654, -1.14173741, -0.88901043],\n",
              "       [-1.52439333,  1.1619757 , -1.53664423, -1.27957986],\n",
              "       [ 0.31539172, -0.19366262,  0.66355092,  0.80345712],\n",
              "       [-1.03378398, -1.77524065, -0.23909325, -0.23806137],\n",
              "       [-0.17521762,  1.61385514, -1.14173741, -1.14939005],\n",
              "       [-0.78847931,  0.93603598, -1.25456793, -1.27957986],\n",
              "       [-0.4205223 ,  0.93603598, -1.36739845, -1.27957986],\n",
              "       [-1.15643632, -1.54930093, -0.23909325, -0.23806137],\n",
              "       [-0.54317463,  0.71009626, -1.25456793, -1.01920024],\n",
              "       [ 1.05130574,  0.0322771 ,  0.38147462,  0.28269788],\n",
              "       [-1.27908866, -0.19366262, -1.31098319, -1.40976967],\n",
              "       [-0.4205223 , -1.32336121,  0.15581358,  0.15250807],\n",
              "       [ 0.19273939, -2.00118037,  0.71996618,  0.41288769],\n",
              "       [-1.27908866,  0.0322771 , -1.19815267, -1.27957986],\n",
              "       [ 1.05130574,  0.0322771 ,  0.5507204 ,  0.41288769],\n",
              "       [-0.05256529, -1.09742149,  0.15581358,  0.02231825],\n",
              "       [ 0.43804406,  0.71009626,  0.94562722,  1.45440618],\n",
              "       [-1.03378398, -0.19366262, -1.19815267, -1.27957986],\n",
              "       [ 0.19273939, -0.19366262,  0.60713566,  0.80345712],\n",
              "       [-1.89235034, -0.19366262, -1.48022897, -1.40976967],\n",
              "       [-0.29786996, -1.32336121,  0.09939832, -0.10787156],\n",
              "       [ 1.05130574, -0.19366262,  0.71996618,  0.67326731],\n",
              "       [ 2.27782911, -0.19366262,  1.34053404,  1.45440618],\n",
              "       [ 0.5606964 ,  0.71009626,  1.05845774,  1.58459599],\n",
              "       [-0.4205223 ,  2.51761402, -1.31098319, -1.27957986],\n",
              "       [ 0.19273939, -2.00118037,  0.15581358, -0.23806137],\n",
              "       [ 2.27782911, -0.64554206,  1.6790256 ,  1.06383675],\n",
              "       [ 1.78721977, -0.41960234,  1.45336456,  0.80345712],\n",
              "       [-0.29786996, -0.19366262,  0.21222884,  0.15250807],\n",
              "       [ 0.80600107, -0.64554206,  0.49430514,  0.41288769],\n",
              "       [ 0.5606964 ,  0.48415654,  1.28411878,  1.7147858 ],\n",
              "       [-0.54317463,  1.83979486, -1.36739845, -1.01920024],\n",
              "       [ 0.68334873,  0.25821682,  0.88921196,  1.45440618],\n",
              "       [-1.03378398,  0.93603598, -1.36739845, -1.14939005],\n",
              "       [-0.91113164,  0.93603598, -1.31098319, -1.27957986],\n",
              "       [ 0.31539172, -0.64554206,  0.5507204 ,  0.02231825],\n",
              "       [-1.769698  , -0.41960234, -1.31098319, -1.27957986],\n",
              "       [ 1.05130574, -0.19366262,  0.8327967 ,  1.45440618],\n",
              "       [ 0.5606964 , -0.87148177,  0.66355092,  0.80345712],\n",
              "       [-0.17521762, -1.32336121,  0.71996618,  1.06383675],\n",
              "       [-0.29786996, -0.41960234, -0.06984747,  0.15250807],\n",
              "       [-0.17521762,  2.96949345, -1.25456793, -1.01920024],\n",
              "       [ 1.66456743,  0.25821682,  1.28411878,  0.80345712],\n",
              "       [-1.15643632,  0.0322771 , -1.25456793, -1.40976967]])"
            ]
          },
          "metadata": {
            "tags": []
          },
          "execution_count": 34
        }
      ]
    },
    {
      "cell_type": "code",
      "metadata": {
        "id": "ZLUq_l9u5xHC",
        "outputId": "5392c274-e3d0-4d98-f553-f580af534585",
        "colab": {
          "base_uri": "https://localhost:8080/",
          "height": 34
        }
      },
      "source": [
        "y_train.shape"
      ],
      "execution_count": 35,
      "outputs": [
        {
          "output_type": "execute_result",
          "data": {
            "text/plain": [
              "(105, 3)"
            ]
          },
          "metadata": {
            "tags": []
          },
          "execution_count": 35
        }
      ]
    },
    {
      "cell_type": "code",
      "metadata": {
        "id": "Ur5_241-5xBu",
        "outputId": "69c8b8b8-f6fb-4856-f373-48f881740083",
        "colab": {
          "base_uri": "https://localhost:8080/",
          "height": 221
        }
      },
      "source": [
        "model = Sequential([\n",
        "    Dense(8, input_shape=(4,), activation='relu'),\n",
        "    Dense(3, activation='softmax')\n",
        "])\n",
        "\n",
        "model.summary()"
      ],
      "execution_count": 36,
      "outputs": [
        {
          "output_type": "stream",
          "text": [
            "Model: \"sequential\"\n",
            "_________________________________________________________________\n",
            "Layer (type)                 Output Shape              Param #   \n",
            "=================================================================\n",
            "dense (Dense)                (None, 8)                 40        \n",
            "_________________________________________________________________\n",
            "dense_1 (Dense)              (None, 3)                 27        \n",
            "=================================================================\n",
            "Total params: 67\n",
            "Trainable params: 67\n",
            "Non-trainable params: 0\n",
            "_________________________________________________________________\n"
          ],
          "name": "stdout"
        }
      ]
    },
    {
      "cell_type": "code",
      "metadata": {
        "id": "Fn8SHtHZ2RDx",
        "outputId": "91f71f6d-6f3f-48b1-cf4b-7d54f5c376e0",
        "colab": {
          "base_uri": "https://localhost:8080/",
          "height": 1000
        }
      },
      "source": [
        "model.compile(optimizer='adam',\n",
        "              loss='categorical_crossentropy',\n",
        "              metrics=['accuracy'])\n",
        "\n",
        "r=model.fit(X_train, y_train, epochs=500,validation_data=(X_test,y_test))"
      ],
      "execution_count": 37,
      "outputs": [
        {
          "output_type": "stream",
          "text": [
            "Epoch 1/500\n",
            "4/4 [==============================] - 0s 49ms/step - loss: 1.8485 - accuracy: 0.1619 - val_loss: 1.6805 - val_accuracy: 0.2889\n",
            "Epoch 2/500\n",
            "4/4 [==============================] - 0s 8ms/step - loss: 1.8063 - accuracy: 0.1619 - val_loss: 1.6449 - val_accuracy: 0.2889\n",
            "Epoch 3/500\n",
            "4/4 [==============================] - 0s 7ms/step - loss: 1.7662 - accuracy: 0.1619 - val_loss: 1.6109 - val_accuracy: 0.2889\n",
            "Epoch 4/500\n",
            "4/4 [==============================] - 0s 8ms/step - loss: 1.7275 - accuracy: 0.1619 - val_loss: 1.5782 - val_accuracy: 0.2889\n",
            "Epoch 5/500\n",
            "4/4 [==============================] - 0s 8ms/step - loss: 1.6911 - accuracy: 0.1619 - val_loss: 1.5464 - val_accuracy: 0.2889\n",
            "Epoch 6/500\n",
            "4/4 [==============================] - 0s 8ms/step - loss: 1.6537 - accuracy: 0.1619 - val_loss: 1.5162 - val_accuracy: 0.2889\n",
            "Epoch 7/500\n",
            "4/4 [==============================] - 0s 9ms/step - loss: 1.6202 - accuracy: 0.1714 - val_loss: 1.4868 - val_accuracy: 0.2889\n",
            "Epoch 8/500\n",
            "4/4 [==============================] - 0s 8ms/step - loss: 1.5869 - accuracy: 0.1714 - val_loss: 1.4585 - val_accuracy: 0.2889\n",
            "Epoch 9/500\n",
            "4/4 [==============================] - 0s 8ms/step - loss: 1.5539 - accuracy: 0.1714 - val_loss: 1.4308 - val_accuracy: 0.2889\n",
            "Epoch 10/500\n",
            "4/4 [==============================] - 0s 9ms/step - loss: 1.5216 - accuracy: 0.1714 - val_loss: 1.4038 - val_accuracy: 0.2889\n",
            "Epoch 11/500\n",
            "4/4 [==============================] - 0s 7ms/step - loss: 1.4927 - accuracy: 0.1714 - val_loss: 1.3773 - val_accuracy: 0.2889\n",
            "Epoch 12/500\n",
            "4/4 [==============================] - 0s 8ms/step - loss: 1.4623 - accuracy: 0.1905 - val_loss: 1.3519 - val_accuracy: 0.2889\n",
            "Epoch 13/500\n",
            "4/4 [==============================] - 0s 8ms/step - loss: 1.4331 - accuracy: 0.1905 - val_loss: 1.3268 - val_accuracy: 0.2889\n",
            "Epoch 14/500\n",
            "4/4 [==============================] - 0s 8ms/step - loss: 1.4061 - accuracy: 0.2095 - val_loss: 1.3018 - val_accuracy: 0.2889\n",
            "Epoch 15/500\n",
            "4/4 [==============================] - 0s 8ms/step - loss: 1.3790 - accuracy: 0.2095 - val_loss: 1.2778 - val_accuracy: 0.2889\n",
            "Epoch 16/500\n",
            "4/4 [==============================] - 0s 8ms/step - loss: 1.3520 - accuracy: 0.2095 - val_loss: 1.2546 - val_accuracy: 0.2667\n",
            "Epoch 17/500\n",
            "4/4 [==============================] - 0s 8ms/step - loss: 1.3267 - accuracy: 0.2190 - val_loss: 1.2319 - val_accuracy: 0.2889\n",
            "Epoch 18/500\n",
            "4/4 [==============================] - 0s 8ms/step - loss: 1.3018 - accuracy: 0.2095 - val_loss: 1.2099 - val_accuracy: 0.2889\n",
            "Epoch 19/500\n",
            "4/4 [==============================] - 0s 7ms/step - loss: 1.2775 - accuracy: 0.2190 - val_loss: 1.1885 - val_accuracy: 0.2889\n",
            "Epoch 20/500\n",
            "4/4 [==============================] - 0s 7ms/step - loss: 1.2542 - accuracy: 0.2095 - val_loss: 1.1681 - val_accuracy: 0.2889\n",
            "Epoch 21/500\n",
            "4/4 [==============================] - 0s 8ms/step - loss: 1.2316 - accuracy: 0.2190 - val_loss: 1.1483 - val_accuracy: 0.2889\n",
            "Epoch 22/500\n",
            "4/4 [==============================] - 0s 8ms/step - loss: 1.2097 - accuracy: 0.2190 - val_loss: 1.1291 - val_accuracy: 0.2889\n",
            "Epoch 23/500\n",
            "4/4 [==============================] - 0s 8ms/step - loss: 1.1881 - accuracy: 0.2190 - val_loss: 1.1099 - val_accuracy: 0.3333\n",
            "Epoch 24/500\n",
            "4/4 [==============================] - 0s 8ms/step - loss: 1.1667 - accuracy: 0.2286 - val_loss: 1.0909 - val_accuracy: 0.3556\n",
            "Epoch 25/500\n",
            "4/4 [==============================] - 0s 8ms/step - loss: 1.1456 - accuracy: 0.2571 - val_loss: 1.0722 - val_accuracy: 0.3556\n",
            "Epoch 26/500\n",
            "4/4 [==============================] - 0s 9ms/step - loss: 1.1261 - accuracy: 0.2762 - val_loss: 1.0534 - val_accuracy: 0.4000\n",
            "Epoch 27/500\n",
            "4/4 [==============================] - 0s 8ms/step - loss: 1.1052 - accuracy: 0.3048 - val_loss: 1.0357 - val_accuracy: 0.3778\n",
            "Epoch 28/500\n",
            "4/4 [==============================] - 0s 8ms/step - loss: 1.0864 - accuracy: 0.3143 - val_loss: 1.0184 - val_accuracy: 0.4000\n",
            "Epoch 29/500\n",
            "4/4 [==============================] - 0s 8ms/step - loss: 1.0672 - accuracy: 0.3238 - val_loss: 1.0015 - val_accuracy: 0.4667\n",
            "Epoch 30/500\n",
            "4/4 [==============================] - 0s 8ms/step - loss: 1.0486 - accuracy: 0.3429 - val_loss: 0.9844 - val_accuracy: 0.5111\n",
            "Epoch 31/500\n",
            "4/4 [==============================] - 0s 8ms/step - loss: 1.0302 - accuracy: 0.3905 - val_loss: 0.9677 - val_accuracy: 0.5333\n",
            "Epoch 32/500\n",
            "4/4 [==============================] - 0s 8ms/step - loss: 1.0118 - accuracy: 0.4286 - val_loss: 0.9511 - val_accuracy: 0.5556\n",
            "Epoch 33/500\n",
            "4/4 [==============================] - 0s 8ms/step - loss: 0.9947 - accuracy: 0.4381 - val_loss: 0.9352 - val_accuracy: 0.6000\n",
            "Epoch 34/500\n",
            "4/4 [==============================] - 0s 8ms/step - loss: 0.9777 - accuracy: 0.4762 - val_loss: 0.9196 - val_accuracy: 0.6000\n",
            "Epoch 35/500\n",
            "4/4 [==============================] - 0s 8ms/step - loss: 0.9610 - accuracy: 0.4952 - val_loss: 0.9040 - val_accuracy: 0.6000\n",
            "Epoch 36/500\n",
            "4/4 [==============================] - 0s 8ms/step - loss: 0.9443 - accuracy: 0.4952 - val_loss: 0.8891 - val_accuracy: 0.6222\n",
            "Epoch 37/500\n",
            "4/4 [==============================] - 0s 8ms/step - loss: 0.9282 - accuracy: 0.5429 - val_loss: 0.8749 - val_accuracy: 0.6000\n",
            "Epoch 38/500\n",
            "4/4 [==============================] - 0s 8ms/step - loss: 0.9130 - accuracy: 0.5524 - val_loss: 0.8611 - val_accuracy: 0.6222\n",
            "Epoch 39/500\n",
            "4/4 [==============================] - 0s 7ms/step - loss: 0.8978 - accuracy: 0.5810 - val_loss: 0.8477 - val_accuracy: 0.6222\n",
            "Epoch 40/500\n",
            "4/4 [==============================] - 0s 8ms/step - loss: 0.8827 - accuracy: 0.5905 - val_loss: 0.8348 - val_accuracy: 0.6444\n",
            "Epoch 41/500\n",
            "4/4 [==============================] - 0s 8ms/step - loss: 0.8685 - accuracy: 0.6095 - val_loss: 0.8220 - val_accuracy: 0.6444\n",
            "Epoch 42/500\n",
            "4/4 [==============================] - 0s 10ms/step - loss: 0.8541 - accuracy: 0.6190 - val_loss: 0.8097 - val_accuracy: 0.6444\n",
            "Epoch 43/500\n",
            "4/4 [==============================] - 0s 8ms/step - loss: 0.8401 - accuracy: 0.6286 - val_loss: 0.7978 - val_accuracy: 0.6889\n",
            "Epoch 44/500\n",
            "4/4 [==============================] - 0s 8ms/step - loss: 0.8263 - accuracy: 0.6476 - val_loss: 0.7863 - val_accuracy: 0.6889\n",
            "Epoch 45/500\n",
            "4/4 [==============================] - 0s 8ms/step - loss: 0.8137 - accuracy: 0.6571 - val_loss: 0.7750 - val_accuracy: 0.6889\n",
            "Epoch 46/500\n",
            "4/4 [==============================] - 0s 8ms/step - loss: 0.8006 - accuracy: 0.6762 - val_loss: 0.7641 - val_accuracy: 0.6889\n",
            "Epoch 47/500\n",
            "4/4 [==============================] - 0s 9ms/step - loss: 0.7879 - accuracy: 0.7143 - val_loss: 0.7535 - val_accuracy: 0.6889\n",
            "Epoch 48/500\n",
            "4/4 [==============================] - 0s 8ms/step - loss: 0.7759 - accuracy: 0.7238 - val_loss: 0.7433 - val_accuracy: 0.6889\n",
            "Epoch 49/500\n",
            "4/4 [==============================] - 0s 8ms/step - loss: 0.7642 - accuracy: 0.7429 - val_loss: 0.7335 - val_accuracy: 0.7333\n",
            "Epoch 50/500\n",
            "4/4 [==============================] - 0s 8ms/step - loss: 0.7531 - accuracy: 0.7524 - val_loss: 0.7242 - val_accuracy: 0.7333\n",
            "Epoch 51/500\n",
            "4/4 [==============================] - 0s 11ms/step - loss: 0.7423 - accuracy: 0.7619 - val_loss: 0.7153 - val_accuracy: 0.7556\n",
            "Epoch 52/500\n",
            "4/4 [==============================] - 0s 7ms/step - loss: 0.7326 - accuracy: 0.7714 - val_loss: 0.7065 - val_accuracy: 0.7556\n",
            "Epoch 53/500\n",
            "4/4 [==============================] - 0s 7ms/step - loss: 0.7226 - accuracy: 0.7714 - val_loss: 0.6980 - val_accuracy: 0.7556\n",
            "Epoch 54/500\n",
            "4/4 [==============================] - 0s 8ms/step - loss: 0.7130 - accuracy: 0.7714 - val_loss: 0.6899 - val_accuracy: 0.7556\n",
            "Epoch 55/500\n",
            "4/4 [==============================] - 0s 8ms/step - loss: 0.7040 - accuracy: 0.7619 - val_loss: 0.6818 - val_accuracy: 0.7333\n",
            "Epoch 56/500\n",
            "4/4 [==============================] - 0s 8ms/step - loss: 0.6946 - accuracy: 0.7714 - val_loss: 0.6740 - val_accuracy: 0.7556\n",
            "Epoch 57/500\n",
            "4/4 [==============================] - 0s 8ms/step - loss: 0.6861 - accuracy: 0.7714 - val_loss: 0.6663 - val_accuracy: 0.7778\n",
            "Epoch 58/500\n",
            "4/4 [==============================] - 0s 11ms/step - loss: 0.6771 - accuracy: 0.7714 - val_loss: 0.6589 - val_accuracy: 0.7778\n",
            "Epoch 59/500\n",
            "4/4 [==============================] - 0s 9ms/step - loss: 0.6684 - accuracy: 0.7714 - val_loss: 0.6518 - val_accuracy: 0.7778\n",
            "Epoch 60/500\n",
            "4/4 [==============================] - 0s 11ms/step - loss: 0.6603 - accuracy: 0.7810 - val_loss: 0.6449 - val_accuracy: 0.7778\n",
            "Epoch 61/500\n",
            "4/4 [==============================] - 0s 8ms/step - loss: 0.6527 - accuracy: 0.7810 - val_loss: 0.6382 - val_accuracy: 0.7778\n",
            "Epoch 62/500\n",
            "4/4 [==============================] - 0s 8ms/step - loss: 0.6448 - accuracy: 0.7810 - val_loss: 0.6317 - val_accuracy: 0.7778\n",
            "Epoch 63/500\n",
            "4/4 [==============================] - 0s 8ms/step - loss: 0.6376 - accuracy: 0.7905 - val_loss: 0.6255 - val_accuracy: 0.7556\n",
            "Epoch 64/500\n",
            "4/4 [==============================] - 0s 8ms/step - loss: 0.6306 - accuracy: 0.7905 - val_loss: 0.6195 - val_accuracy: 0.7556\n",
            "Epoch 65/500\n",
            "4/4 [==============================] - 0s 7ms/step - loss: 0.6236 - accuracy: 0.7905 - val_loss: 0.6136 - val_accuracy: 0.7778\n",
            "Epoch 66/500\n",
            "4/4 [==============================] - 0s 10ms/step - loss: 0.6173 - accuracy: 0.7905 - val_loss: 0.6077 - val_accuracy: 0.7778\n",
            "Epoch 67/500\n",
            "4/4 [==============================] - 0s 8ms/step - loss: 0.6108 - accuracy: 0.7905 - val_loss: 0.6021 - val_accuracy: 0.7778\n",
            "Epoch 68/500\n",
            "4/4 [==============================] - 0s 8ms/step - loss: 0.6043 - accuracy: 0.7905 - val_loss: 0.5967 - val_accuracy: 0.7778\n",
            "Epoch 69/500\n",
            "4/4 [==============================] - 0s 8ms/step - loss: 0.5982 - accuracy: 0.7905 - val_loss: 0.5915 - val_accuracy: 0.7778\n",
            "Epoch 70/500\n",
            "4/4 [==============================] - 0s 8ms/step - loss: 0.5924 - accuracy: 0.7905 - val_loss: 0.5863 - val_accuracy: 0.7778\n",
            "Epoch 71/500\n",
            "4/4 [==============================] - 0s 8ms/step - loss: 0.5868 - accuracy: 0.7905 - val_loss: 0.5812 - val_accuracy: 0.7778\n",
            "Epoch 72/500\n",
            "4/4 [==============================] - 0s 8ms/step - loss: 0.5809 - accuracy: 0.8000 - val_loss: 0.5762 - val_accuracy: 0.7778\n",
            "Epoch 73/500\n",
            "4/4 [==============================] - 0s 9ms/step - loss: 0.5756 - accuracy: 0.8000 - val_loss: 0.5714 - val_accuracy: 0.7778\n",
            "Epoch 74/500\n",
            "4/4 [==============================] - 0s 8ms/step - loss: 0.5703 - accuracy: 0.8000 - val_loss: 0.5667 - val_accuracy: 0.7778\n",
            "Epoch 75/500\n",
            "4/4 [==============================] - 0s 10ms/step - loss: 0.5653 - accuracy: 0.8095 - val_loss: 0.5621 - val_accuracy: 0.7778\n",
            "Epoch 76/500\n",
            "4/4 [==============================] - 0s 9ms/step - loss: 0.5602 - accuracy: 0.8095 - val_loss: 0.5577 - val_accuracy: 0.7778\n",
            "Epoch 77/500\n",
            "4/4 [==============================] - 0s 9ms/step - loss: 0.5554 - accuracy: 0.8095 - val_loss: 0.5535 - val_accuracy: 0.7778\n",
            "Epoch 78/500\n",
            "4/4 [==============================] - 0s 8ms/step - loss: 0.5504 - accuracy: 0.8095 - val_loss: 0.5494 - val_accuracy: 0.7778\n",
            "Epoch 79/500\n",
            "4/4 [==============================] - 0s 8ms/step - loss: 0.5459 - accuracy: 0.8095 - val_loss: 0.5453 - val_accuracy: 0.7778\n",
            "Epoch 80/500\n",
            "4/4 [==============================] - 0s 8ms/step - loss: 0.5413 - accuracy: 0.8095 - val_loss: 0.5412 - val_accuracy: 0.7778\n",
            "Epoch 81/500\n",
            "4/4 [==============================] - 0s 8ms/step - loss: 0.5370 - accuracy: 0.8095 - val_loss: 0.5372 - val_accuracy: 0.7778\n",
            "Epoch 82/500\n",
            "4/4 [==============================] - 0s 8ms/step - loss: 0.5326 - accuracy: 0.8095 - val_loss: 0.5333 - val_accuracy: 0.7778\n",
            "Epoch 83/500\n",
            "4/4 [==============================] - 0s 8ms/step - loss: 0.5285 - accuracy: 0.8095 - val_loss: 0.5295 - val_accuracy: 0.7778\n",
            "Epoch 84/500\n",
            "4/4 [==============================] - 0s 9ms/step - loss: 0.5245 - accuracy: 0.8095 - val_loss: 0.5259 - val_accuracy: 0.7778\n",
            "Epoch 85/500\n",
            "4/4 [==============================] - 0s 8ms/step - loss: 0.5205 - accuracy: 0.8095 - val_loss: 0.5224 - val_accuracy: 0.7778\n",
            "Epoch 86/500\n",
            "4/4 [==============================] - 0s 8ms/step - loss: 0.5167 - accuracy: 0.8095 - val_loss: 0.5190 - val_accuracy: 0.7778\n",
            "Epoch 87/500\n",
            "4/4 [==============================] - 0s 8ms/step - loss: 0.5129 - accuracy: 0.8095 - val_loss: 0.5156 - val_accuracy: 0.7778\n",
            "Epoch 88/500\n",
            "4/4 [==============================] - 0s 8ms/step - loss: 0.5093 - accuracy: 0.8095 - val_loss: 0.5122 - val_accuracy: 0.7778\n",
            "Epoch 89/500\n",
            "4/4 [==============================] - 0s 8ms/step - loss: 0.5057 - accuracy: 0.8095 - val_loss: 0.5091 - val_accuracy: 0.7778\n",
            "Epoch 90/500\n",
            "4/4 [==============================] - 0s 9ms/step - loss: 0.5022 - accuracy: 0.8095 - val_loss: 0.5063 - val_accuracy: 0.7778\n",
            "Epoch 91/500\n",
            "4/4 [==============================] - 0s 8ms/step - loss: 0.4987 - accuracy: 0.8095 - val_loss: 0.5033 - val_accuracy: 0.7778\n",
            "Epoch 92/500\n",
            "4/4 [==============================] - 0s 9ms/step - loss: 0.4953 - accuracy: 0.8095 - val_loss: 0.5003 - val_accuracy: 0.7778\n",
            "Epoch 93/500\n",
            "4/4 [==============================] - 0s 8ms/step - loss: 0.4920 - accuracy: 0.8095 - val_loss: 0.4972 - val_accuracy: 0.7778\n",
            "Epoch 94/500\n",
            "4/4 [==============================] - 0s 7ms/step - loss: 0.4886 - accuracy: 0.8095 - val_loss: 0.4942 - val_accuracy: 0.7778\n",
            "Epoch 95/500\n",
            "4/4 [==============================] - 0s 8ms/step - loss: 0.4853 - accuracy: 0.8095 - val_loss: 0.4914 - val_accuracy: 0.7778\n",
            "Epoch 96/500\n",
            "4/4 [==============================] - 0s 8ms/step - loss: 0.4821 - accuracy: 0.8095 - val_loss: 0.4885 - val_accuracy: 0.7778\n",
            "Epoch 97/500\n",
            "4/4 [==============================] - 0s 8ms/step - loss: 0.4790 - accuracy: 0.8095 - val_loss: 0.4857 - val_accuracy: 0.7778\n",
            "Epoch 98/500\n",
            "4/4 [==============================] - 0s 9ms/step - loss: 0.4759 - accuracy: 0.8095 - val_loss: 0.4830 - val_accuracy: 0.7778\n",
            "Epoch 99/500\n",
            "4/4 [==============================] - 0s 10ms/step - loss: 0.4729 - accuracy: 0.8095 - val_loss: 0.4804 - val_accuracy: 0.7778\n",
            "Epoch 100/500\n",
            "4/4 [==============================] - 0s 9ms/step - loss: 0.4700 - accuracy: 0.8095 - val_loss: 0.4778 - val_accuracy: 0.7778\n",
            "Epoch 101/500\n",
            "4/4 [==============================] - 0s 8ms/step - loss: 0.4671 - accuracy: 0.8095 - val_loss: 0.4753 - val_accuracy: 0.7778\n",
            "Epoch 102/500\n",
            "4/4 [==============================] - 0s 8ms/step - loss: 0.4643 - accuracy: 0.8095 - val_loss: 0.4730 - val_accuracy: 0.7778\n",
            "Epoch 103/500\n",
            "4/4 [==============================] - 0s 8ms/step - loss: 0.4615 - accuracy: 0.8095 - val_loss: 0.4706 - val_accuracy: 0.7778\n",
            "Epoch 104/500\n",
            "4/4 [==============================] - 0s 8ms/step - loss: 0.4588 - accuracy: 0.8095 - val_loss: 0.4681 - val_accuracy: 0.7778\n",
            "Epoch 105/500\n",
            "4/4 [==============================] - 0s 8ms/step - loss: 0.4562 - accuracy: 0.8095 - val_loss: 0.4657 - val_accuracy: 0.7778\n",
            "Epoch 106/500\n",
            "4/4 [==============================] - 0s 8ms/step - loss: 0.4536 - accuracy: 0.8190 - val_loss: 0.4631 - val_accuracy: 0.7778\n",
            "Epoch 107/500\n",
            "4/4 [==============================] - 0s 8ms/step - loss: 0.4511 - accuracy: 0.8190 - val_loss: 0.4604 - val_accuracy: 0.7778\n",
            "Epoch 108/500\n",
            "4/4 [==============================] - 0s 8ms/step - loss: 0.4486 - accuracy: 0.8190 - val_loss: 0.4580 - val_accuracy: 0.7778\n",
            "Epoch 109/500\n",
            "4/4 [==============================] - 0s 8ms/step - loss: 0.4463 - accuracy: 0.8190 - val_loss: 0.4558 - val_accuracy: 0.7778\n",
            "Epoch 110/500\n",
            "4/4 [==============================] - 0s 7ms/step - loss: 0.4439 - accuracy: 0.8190 - val_loss: 0.4538 - val_accuracy: 0.7778\n",
            "Epoch 111/500\n",
            "4/4 [==============================] - 0s 8ms/step - loss: 0.4416 - accuracy: 0.8190 - val_loss: 0.4519 - val_accuracy: 0.8000\n",
            "Epoch 112/500\n",
            "4/4 [==============================] - 0s 8ms/step - loss: 0.4393 - accuracy: 0.8286 - val_loss: 0.4500 - val_accuracy: 0.8000\n",
            "Epoch 113/500\n",
            "4/4 [==============================] - 0s 8ms/step - loss: 0.4370 - accuracy: 0.8286 - val_loss: 0.4479 - val_accuracy: 0.8000\n",
            "Epoch 114/500\n",
            "4/4 [==============================] - 0s 8ms/step - loss: 0.4348 - accuracy: 0.8286 - val_loss: 0.4459 - val_accuracy: 0.8000\n",
            "Epoch 115/500\n",
            "4/4 [==============================] - 0s 8ms/step - loss: 0.4326 - accuracy: 0.8286 - val_loss: 0.4439 - val_accuracy: 0.8000\n",
            "Epoch 116/500\n",
            "4/4 [==============================] - 0s 8ms/step - loss: 0.4305 - accuracy: 0.8286 - val_loss: 0.4420 - val_accuracy: 0.8000\n",
            "Epoch 117/500\n",
            "4/4 [==============================] - 0s 8ms/step - loss: 0.4284 - accuracy: 0.8286 - val_loss: 0.4405 - val_accuracy: 0.8000\n",
            "Epoch 118/500\n",
            "4/4 [==============================] - 0s 9ms/step - loss: 0.4263 - accuracy: 0.8286 - val_loss: 0.4387 - val_accuracy: 0.8000\n",
            "Epoch 119/500\n",
            "4/4 [==============================] - 0s 8ms/step - loss: 0.4244 - accuracy: 0.8286 - val_loss: 0.4371 - val_accuracy: 0.8000\n",
            "Epoch 120/500\n",
            "4/4 [==============================] - 0s 8ms/step - loss: 0.4224 - accuracy: 0.8286 - val_loss: 0.4354 - val_accuracy: 0.8000\n",
            "Epoch 121/500\n",
            "4/4 [==============================] - 0s 7ms/step - loss: 0.4204 - accuracy: 0.8286 - val_loss: 0.4337 - val_accuracy: 0.8000\n",
            "Epoch 122/500\n",
            "4/4 [==============================] - 0s 8ms/step - loss: 0.4186 - accuracy: 0.8286 - val_loss: 0.4321 - val_accuracy: 0.8000\n",
            "Epoch 123/500\n",
            "4/4 [==============================] - 0s 11ms/step - loss: 0.4167 - accuracy: 0.8286 - val_loss: 0.4303 - val_accuracy: 0.8222\n",
            "Epoch 124/500\n",
            "4/4 [==============================] - 0s 8ms/step - loss: 0.4149 - accuracy: 0.8286 - val_loss: 0.4287 - val_accuracy: 0.8222\n",
            "Epoch 125/500\n",
            "4/4 [==============================] - 0s 8ms/step - loss: 0.4131 - accuracy: 0.8286 - val_loss: 0.4272 - val_accuracy: 0.8222\n",
            "Epoch 126/500\n",
            "4/4 [==============================] - 0s 8ms/step - loss: 0.4115 - accuracy: 0.8286 - val_loss: 0.4256 - val_accuracy: 0.8222\n",
            "Epoch 127/500\n",
            "4/4 [==============================] - 0s 8ms/step - loss: 0.4096 - accuracy: 0.8286 - val_loss: 0.4237 - val_accuracy: 0.8222\n",
            "Epoch 128/500\n",
            "4/4 [==============================] - 0s 8ms/step - loss: 0.4079 - accuracy: 0.8286 - val_loss: 0.4217 - val_accuracy: 0.8222\n",
            "Epoch 129/500\n",
            "4/4 [==============================] - 0s 8ms/step - loss: 0.4062 - accuracy: 0.8286 - val_loss: 0.4198 - val_accuracy: 0.8222\n",
            "Epoch 130/500\n",
            "4/4 [==============================] - 0s 8ms/step - loss: 0.4045 - accuracy: 0.8286 - val_loss: 0.4179 - val_accuracy: 0.8222\n",
            "Epoch 131/500\n",
            "4/4 [==============================] - 0s 8ms/step - loss: 0.4030 - accuracy: 0.8286 - val_loss: 0.4158 - val_accuracy: 0.8222\n",
            "Epoch 132/500\n",
            "4/4 [==============================] - 0s 8ms/step - loss: 0.4012 - accuracy: 0.8286 - val_loss: 0.4139 - val_accuracy: 0.8222\n",
            "Epoch 133/500\n",
            "4/4 [==============================] - 0s 8ms/step - loss: 0.3997 - accuracy: 0.8286 - val_loss: 0.4120 - val_accuracy: 0.8222\n",
            "Epoch 134/500\n",
            "4/4 [==============================] - 0s 8ms/step - loss: 0.3980 - accuracy: 0.8286 - val_loss: 0.4103 - val_accuracy: 0.8222\n",
            "Epoch 135/500\n",
            "4/4 [==============================] - 0s 8ms/step - loss: 0.3965 - accuracy: 0.8286 - val_loss: 0.4087 - val_accuracy: 0.8222\n",
            "Epoch 136/500\n",
            "4/4 [==============================] - 0s 8ms/step - loss: 0.3950 - accuracy: 0.8286 - val_loss: 0.4071 - val_accuracy: 0.8222\n",
            "Epoch 137/500\n",
            "4/4 [==============================] - 0s 8ms/step - loss: 0.3936 - accuracy: 0.8286 - val_loss: 0.4059 - val_accuracy: 0.8222\n",
            "Epoch 138/500\n",
            "4/4 [==============================] - 0s 11ms/step - loss: 0.3920 - accuracy: 0.8286 - val_loss: 0.4044 - val_accuracy: 0.8222\n",
            "Epoch 139/500\n",
            "4/4 [==============================] - 0s 8ms/step - loss: 0.3906 - accuracy: 0.8286 - val_loss: 0.4028 - val_accuracy: 0.8222\n",
            "Epoch 140/500\n",
            "4/4 [==============================] - 0s 8ms/step - loss: 0.3892 - accuracy: 0.8286 - val_loss: 0.4012 - val_accuracy: 0.8222\n",
            "Epoch 141/500\n",
            "4/4 [==============================] - 0s 8ms/step - loss: 0.3878 - accuracy: 0.8286 - val_loss: 0.3996 - val_accuracy: 0.8222\n",
            "Epoch 142/500\n",
            "4/4 [==============================] - 0s 9ms/step - loss: 0.3865 - accuracy: 0.8286 - val_loss: 0.3979 - val_accuracy: 0.8222\n",
            "Epoch 143/500\n",
            "4/4 [==============================] - 0s 9ms/step - loss: 0.3851 - accuracy: 0.8286 - val_loss: 0.3959 - val_accuracy: 0.8222\n",
            "Epoch 144/500\n",
            "4/4 [==============================] - 0s 8ms/step - loss: 0.3838 - accuracy: 0.8286 - val_loss: 0.3941 - val_accuracy: 0.8222\n",
            "Epoch 145/500\n",
            "4/4 [==============================] - 0s 8ms/step - loss: 0.3824 - accuracy: 0.8286 - val_loss: 0.3926 - val_accuracy: 0.8222\n",
            "Epoch 146/500\n",
            "4/4 [==============================] - 0s 8ms/step - loss: 0.3812 - accuracy: 0.8286 - val_loss: 0.3915 - val_accuracy: 0.8222\n",
            "Epoch 147/500\n",
            "4/4 [==============================] - 0s 12ms/step - loss: 0.3799 - accuracy: 0.8286 - val_loss: 0.3902 - val_accuracy: 0.8222\n",
            "Epoch 148/500\n",
            "4/4 [==============================] - 0s 8ms/step - loss: 0.3785 - accuracy: 0.8286 - val_loss: 0.3891 - val_accuracy: 0.8222\n",
            "Epoch 149/500\n",
            "4/4 [==============================] - 0s 8ms/step - loss: 0.3773 - accuracy: 0.8286 - val_loss: 0.3878 - val_accuracy: 0.8222\n",
            "Epoch 150/500\n",
            "4/4 [==============================] - 0s 8ms/step - loss: 0.3761 - accuracy: 0.8286 - val_loss: 0.3862 - val_accuracy: 0.8222\n",
            "Epoch 151/500\n",
            "4/4 [==============================] - 0s 9ms/step - loss: 0.3749 - accuracy: 0.8286 - val_loss: 0.3849 - val_accuracy: 0.8222\n",
            "Epoch 152/500\n",
            "4/4 [==============================] - 0s 9ms/step - loss: 0.3737 - accuracy: 0.8286 - val_loss: 0.3838 - val_accuracy: 0.8222\n",
            "Epoch 153/500\n",
            "4/4 [==============================] - 0s 9ms/step - loss: 0.3725 - accuracy: 0.8286 - val_loss: 0.3827 - val_accuracy: 0.8222\n",
            "Epoch 154/500\n",
            "4/4 [==============================] - 0s 8ms/step - loss: 0.3713 - accuracy: 0.8286 - val_loss: 0.3816 - val_accuracy: 0.8222\n",
            "Epoch 155/500\n",
            "4/4 [==============================] - 0s 8ms/step - loss: 0.3702 - accuracy: 0.8286 - val_loss: 0.3808 - val_accuracy: 0.8222\n",
            "Epoch 156/500\n",
            "4/4 [==============================] - 0s 9ms/step - loss: 0.3691 - accuracy: 0.8286 - val_loss: 0.3796 - val_accuracy: 0.8222\n",
            "Epoch 157/500\n",
            "4/4 [==============================] - 0s 8ms/step - loss: 0.3678 - accuracy: 0.8286 - val_loss: 0.3786 - val_accuracy: 0.8222\n",
            "Epoch 158/500\n",
            "4/4 [==============================] - 0s 8ms/step - loss: 0.3668 - accuracy: 0.8286 - val_loss: 0.3775 - val_accuracy: 0.8222\n",
            "Epoch 159/500\n",
            "4/4 [==============================] - 0s 8ms/step - loss: 0.3656 - accuracy: 0.8286 - val_loss: 0.3763 - val_accuracy: 0.8222\n",
            "Epoch 160/500\n",
            "4/4 [==============================] - 0s 7ms/step - loss: 0.3646 - accuracy: 0.8286 - val_loss: 0.3753 - val_accuracy: 0.8222\n",
            "Epoch 161/500\n",
            "4/4 [==============================] - 0s 9ms/step - loss: 0.3636 - accuracy: 0.8286 - val_loss: 0.3745 - val_accuracy: 0.8222\n",
            "Epoch 162/500\n",
            "4/4 [==============================] - 0s 8ms/step - loss: 0.3625 - accuracy: 0.8286 - val_loss: 0.3734 - val_accuracy: 0.8222\n",
            "Epoch 163/500\n",
            "4/4 [==============================] - 0s 8ms/step - loss: 0.3615 - accuracy: 0.8286 - val_loss: 0.3720 - val_accuracy: 0.8222\n",
            "Epoch 164/500\n",
            "4/4 [==============================] - 0s 8ms/step - loss: 0.3605 - accuracy: 0.8381 - val_loss: 0.3712 - val_accuracy: 0.8222\n",
            "Epoch 165/500\n",
            "4/4 [==============================] - 0s 10ms/step - loss: 0.3594 - accuracy: 0.8381 - val_loss: 0.3700 - val_accuracy: 0.8444\n",
            "Epoch 166/500\n",
            "4/4 [==============================] - 0s 10ms/step - loss: 0.3582 - accuracy: 0.8381 - val_loss: 0.3687 - val_accuracy: 0.8444\n",
            "Epoch 167/500\n",
            "4/4 [==============================] - 0s 9ms/step - loss: 0.3572 - accuracy: 0.8381 - val_loss: 0.3673 - val_accuracy: 0.8444\n",
            "Epoch 168/500\n",
            "4/4 [==============================] - 0s 8ms/step - loss: 0.3561 - accuracy: 0.8381 - val_loss: 0.3660 - val_accuracy: 0.8444\n",
            "Epoch 169/500\n",
            "4/4 [==============================] - 0s 8ms/step - loss: 0.3550 - accuracy: 0.8381 - val_loss: 0.3647 - val_accuracy: 0.8444\n",
            "Epoch 170/500\n",
            "4/4 [==============================] - 0s 10ms/step - loss: 0.3541 - accuracy: 0.8381 - val_loss: 0.3637 - val_accuracy: 0.8444\n",
            "Epoch 171/500\n",
            "4/4 [==============================] - 0s 9ms/step - loss: 0.3530 - accuracy: 0.8381 - val_loss: 0.3626 - val_accuracy: 0.8444\n",
            "Epoch 172/500\n",
            "4/4 [==============================] - 0s 8ms/step - loss: 0.3521 - accuracy: 0.8381 - val_loss: 0.3613 - val_accuracy: 0.8444\n",
            "Epoch 173/500\n",
            "4/4 [==============================] - 0s 8ms/step - loss: 0.3512 - accuracy: 0.8381 - val_loss: 0.3603 - val_accuracy: 0.8444\n",
            "Epoch 174/500\n",
            "4/4 [==============================] - 0s 8ms/step - loss: 0.3503 - accuracy: 0.8381 - val_loss: 0.3597 - val_accuracy: 0.8444\n",
            "Epoch 175/500\n",
            "4/4 [==============================] - 0s 9ms/step - loss: 0.3492 - accuracy: 0.8381 - val_loss: 0.3589 - val_accuracy: 0.8444\n",
            "Epoch 176/500\n",
            "4/4 [==============================] - 0s 8ms/step - loss: 0.3483 - accuracy: 0.8381 - val_loss: 0.3583 - val_accuracy: 0.8444\n",
            "Epoch 177/500\n",
            "4/4 [==============================] - 0s 8ms/step - loss: 0.3474 - accuracy: 0.8381 - val_loss: 0.3576 - val_accuracy: 0.8444\n",
            "Epoch 178/500\n",
            "4/4 [==============================] - 0s 8ms/step - loss: 0.3464 - accuracy: 0.8381 - val_loss: 0.3566 - val_accuracy: 0.8444\n",
            "Epoch 179/500\n",
            "4/4 [==============================] - 0s 10ms/step - loss: 0.3455 - accuracy: 0.8381 - val_loss: 0.3553 - val_accuracy: 0.8444\n",
            "Epoch 180/500\n",
            "4/4 [==============================] - 0s 9ms/step - loss: 0.3445 - accuracy: 0.8381 - val_loss: 0.3540 - val_accuracy: 0.8444\n",
            "Epoch 181/500\n",
            "4/4 [==============================] - 0s 9ms/step - loss: 0.3435 - accuracy: 0.8381 - val_loss: 0.3526 - val_accuracy: 0.8444\n",
            "Epoch 182/500\n",
            "4/4 [==============================] - 0s 8ms/step - loss: 0.3425 - accuracy: 0.8381 - val_loss: 0.3509 - val_accuracy: 0.8444\n",
            "Epoch 183/500\n",
            "4/4 [==============================] - 0s 8ms/step - loss: 0.3415 - accuracy: 0.8381 - val_loss: 0.3494 - val_accuracy: 0.8444\n",
            "Epoch 184/500\n",
            "4/4 [==============================] - 0s 8ms/step - loss: 0.3406 - accuracy: 0.8381 - val_loss: 0.3480 - val_accuracy: 0.8444\n",
            "Epoch 185/500\n",
            "4/4 [==============================] - 0s 9ms/step - loss: 0.3396 - accuracy: 0.8381 - val_loss: 0.3468 - val_accuracy: 0.8444\n",
            "Epoch 186/500\n",
            "4/4 [==============================] - 0s 8ms/step - loss: 0.3387 - accuracy: 0.8381 - val_loss: 0.3457 - val_accuracy: 0.8444\n",
            "Epoch 187/500\n",
            "4/4 [==============================] - 0s 9ms/step - loss: 0.3378 - accuracy: 0.8381 - val_loss: 0.3448 - val_accuracy: 0.8444\n",
            "Epoch 188/500\n",
            "4/4 [==============================] - 0s 9ms/step - loss: 0.3368 - accuracy: 0.8381 - val_loss: 0.3440 - val_accuracy: 0.8444\n",
            "Epoch 189/500\n",
            "4/4 [==============================] - 0s 9ms/step - loss: 0.3360 - accuracy: 0.8381 - val_loss: 0.3434 - val_accuracy: 0.8444\n",
            "Epoch 190/500\n",
            "4/4 [==============================] - 0s 8ms/step - loss: 0.3350 - accuracy: 0.8381 - val_loss: 0.3426 - val_accuracy: 0.8444\n",
            "Epoch 191/500\n",
            "4/4 [==============================] - 0s 9ms/step - loss: 0.3341 - accuracy: 0.8381 - val_loss: 0.3415 - val_accuracy: 0.8444\n",
            "Epoch 192/500\n",
            "4/4 [==============================] - 0s 9ms/step - loss: 0.3332 - accuracy: 0.8381 - val_loss: 0.3406 - val_accuracy: 0.8444\n",
            "Epoch 193/500\n",
            "4/4 [==============================] - 0s 10ms/step - loss: 0.3323 - accuracy: 0.8381 - val_loss: 0.3394 - val_accuracy: 0.8444\n",
            "Epoch 194/500\n",
            "4/4 [==============================] - 0s 10ms/step - loss: 0.3314 - accuracy: 0.8381 - val_loss: 0.3381 - val_accuracy: 0.8444\n",
            "Epoch 195/500\n",
            "4/4 [==============================] - 0s 9ms/step - loss: 0.3306 - accuracy: 0.8381 - val_loss: 0.3367 - val_accuracy: 0.8444\n",
            "Epoch 196/500\n",
            "4/4 [==============================] - 0s 8ms/step - loss: 0.3298 - accuracy: 0.8381 - val_loss: 0.3353 - val_accuracy: 0.8444\n",
            "Epoch 197/500\n",
            "4/4 [==============================] - 0s 9ms/step - loss: 0.3289 - accuracy: 0.8381 - val_loss: 0.3342 - val_accuracy: 0.8444\n",
            "Epoch 198/500\n",
            "4/4 [==============================] - 0s 9ms/step - loss: 0.3281 - accuracy: 0.8476 - val_loss: 0.3332 - val_accuracy: 0.8444\n",
            "Epoch 199/500\n",
            "4/4 [==============================] - 0s 9ms/step - loss: 0.3272 - accuracy: 0.8476 - val_loss: 0.3323 - val_accuracy: 0.8444\n",
            "Epoch 200/500\n",
            "4/4 [==============================] - 0s 9ms/step - loss: 0.3265 - accuracy: 0.8476 - val_loss: 0.3313 - val_accuracy: 0.8444\n",
            "Epoch 201/500\n",
            "4/4 [==============================] - 0s 8ms/step - loss: 0.3256 - accuracy: 0.8476 - val_loss: 0.3304 - val_accuracy: 0.8444\n",
            "Epoch 202/500\n",
            "4/4 [==============================] - 0s 9ms/step - loss: 0.3248 - accuracy: 0.8476 - val_loss: 0.3296 - val_accuracy: 0.8444\n",
            "Epoch 203/500\n",
            "4/4 [==============================] - 0s 9ms/step - loss: 0.3239 - accuracy: 0.8476 - val_loss: 0.3288 - val_accuracy: 0.8444\n",
            "Epoch 204/500\n",
            "4/4 [==============================] - 0s 9ms/step - loss: 0.3231 - accuracy: 0.8476 - val_loss: 0.3281 - val_accuracy: 0.8444\n",
            "Epoch 205/500\n",
            "4/4 [==============================] - 0s 8ms/step - loss: 0.3221 - accuracy: 0.8476 - val_loss: 0.3278 - val_accuracy: 0.8444\n",
            "Epoch 206/500\n",
            "4/4 [==============================] - 0s 9ms/step - loss: 0.3212 - accuracy: 0.8476 - val_loss: 0.3274 - val_accuracy: 0.8444\n",
            "Epoch 207/500\n",
            "4/4 [==============================] - 0s 8ms/step - loss: 0.3203 - accuracy: 0.8476 - val_loss: 0.3271 - val_accuracy: 0.8444\n",
            "Epoch 208/500\n",
            "4/4 [==============================] - 0s 8ms/step - loss: 0.3194 - accuracy: 0.8476 - val_loss: 0.3272 - val_accuracy: 0.8444\n",
            "Epoch 209/500\n",
            "4/4 [==============================] - 0s 9ms/step - loss: 0.3184 - accuracy: 0.8476 - val_loss: 0.3270 - val_accuracy: 0.8444\n",
            "Epoch 210/500\n",
            "4/4 [==============================] - 0s 11ms/step - loss: 0.3177 - accuracy: 0.8476 - val_loss: 0.3267 - val_accuracy: 0.8444\n",
            "Epoch 211/500\n",
            "4/4 [==============================] - 0s 9ms/step - loss: 0.3169 - accuracy: 0.8476 - val_loss: 0.3263 - val_accuracy: 0.8444\n",
            "Epoch 212/500\n",
            "4/4 [==============================] - 0s 8ms/step - loss: 0.3161 - accuracy: 0.8476 - val_loss: 0.3258 - val_accuracy: 0.8444\n",
            "Epoch 213/500\n",
            "4/4 [==============================] - 0s 9ms/step - loss: 0.3154 - accuracy: 0.8571 - val_loss: 0.3251 - val_accuracy: 0.8444\n",
            "Epoch 214/500\n",
            "4/4 [==============================] - 0s 8ms/step - loss: 0.3147 - accuracy: 0.8571 - val_loss: 0.3247 - val_accuracy: 0.8444\n",
            "Epoch 215/500\n",
            "4/4 [==============================] - 0s 9ms/step - loss: 0.3139 - accuracy: 0.8571 - val_loss: 0.3237 - val_accuracy: 0.8444\n",
            "Epoch 216/500\n",
            "4/4 [==============================] - 0s 9ms/step - loss: 0.3130 - accuracy: 0.8571 - val_loss: 0.3228 - val_accuracy: 0.8444\n",
            "Epoch 217/500\n",
            "4/4 [==============================] - 0s 9ms/step - loss: 0.3123 - accuracy: 0.8571 - val_loss: 0.3221 - val_accuracy: 0.8444\n",
            "Epoch 218/500\n",
            "4/4 [==============================] - 0s 9ms/step - loss: 0.3114 - accuracy: 0.8571 - val_loss: 0.3210 - val_accuracy: 0.8444\n",
            "Epoch 219/500\n",
            "4/4 [==============================] - 0s 8ms/step - loss: 0.3107 - accuracy: 0.8571 - val_loss: 0.3198 - val_accuracy: 0.8444\n",
            "Epoch 220/500\n",
            "4/4 [==============================] - 0s 8ms/step - loss: 0.3099 - accuracy: 0.8571 - val_loss: 0.3189 - val_accuracy: 0.8444\n",
            "Epoch 221/500\n",
            "4/4 [==============================] - 0s 9ms/step - loss: 0.3091 - accuracy: 0.8571 - val_loss: 0.3182 - val_accuracy: 0.8444\n",
            "Epoch 222/500\n",
            "4/4 [==============================] - 0s 9ms/step - loss: 0.3084 - accuracy: 0.8571 - val_loss: 0.3175 - val_accuracy: 0.8667\n",
            "Epoch 223/500\n",
            "4/4 [==============================] - 0s 8ms/step - loss: 0.3076 - accuracy: 0.8571 - val_loss: 0.3165 - val_accuracy: 0.8667\n",
            "Epoch 224/500\n",
            "4/4 [==============================] - 0s 9ms/step - loss: 0.3068 - accuracy: 0.8571 - val_loss: 0.3155 - val_accuracy: 0.8667\n",
            "Epoch 225/500\n",
            "4/4 [==============================] - 0s 8ms/step - loss: 0.3061 - accuracy: 0.8571 - val_loss: 0.3146 - val_accuracy: 0.8667\n",
            "Epoch 226/500\n",
            "4/4 [==============================] - 0s 8ms/step - loss: 0.3054 - accuracy: 0.8571 - val_loss: 0.3138 - val_accuracy: 0.8667\n",
            "Epoch 227/500\n",
            "4/4 [==============================] - 0s 8ms/step - loss: 0.3046 - accuracy: 0.8571 - val_loss: 0.3129 - val_accuracy: 0.8667\n",
            "Epoch 228/500\n",
            "4/4 [==============================] - 0s 9ms/step - loss: 0.3038 - accuracy: 0.8571 - val_loss: 0.3122 - val_accuracy: 0.8667\n",
            "Epoch 229/500\n",
            "4/4 [==============================] - 0s 9ms/step - loss: 0.3031 - accuracy: 0.8571 - val_loss: 0.3114 - val_accuracy: 0.8667\n",
            "Epoch 230/500\n",
            "4/4 [==============================] - 0s 8ms/step - loss: 0.3022 - accuracy: 0.8571 - val_loss: 0.3106 - val_accuracy: 0.8667\n",
            "Epoch 231/500\n",
            "4/4 [==============================] - 0s 9ms/step - loss: 0.3014 - accuracy: 0.8571 - val_loss: 0.3098 - val_accuracy: 0.8667\n",
            "Epoch 232/500\n",
            "4/4 [==============================] - 0s 9ms/step - loss: 0.3008 - accuracy: 0.8571 - val_loss: 0.3086 - val_accuracy: 0.8667\n",
            "Epoch 233/500\n",
            "4/4 [==============================] - 0s 9ms/step - loss: 0.2999 - accuracy: 0.8571 - val_loss: 0.3077 - val_accuracy: 0.8667\n",
            "Epoch 234/500\n",
            "4/4 [==============================] - 0s 8ms/step - loss: 0.2991 - accuracy: 0.8571 - val_loss: 0.3068 - val_accuracy: 0.8667\n",
            "Epoch 235/500\n",
            "4/4 [==============================] - 0s 9ms/step - loss: 0.2983 - accuracy: 0.8571 - val_loss: 0.3060 - val_accuracy: 0.8667\n",
            "Epoch 236/500\n",
            "4/4 [==============================] - 0s 9ms/step - loss: 0.2976 - accuracy: 0.8571 - val_loss: 0.3051 - val_accuracy: 0.8667\n",
            "Epoch 237/500\n",
            "4/4 [==============================] - 0s 11ms/step - loss: 0.2968 - accuracy: 0.8571 - val_loss: 0.3039 - val_accuracy: 0.8667\n",
            "Epoch 238/500\n",
            "4/4 [==============================] - 0s 9ms/step - loss: 0.2960 - accuracy: 0.8571 - val_loss: 0.3029 - val_accuracy: 0.8667\n",
            "Epoch 239/500\n",
            "4/4 [==============================] - 0s 9ms/step - loss: 0.2952 - accuracy: 0.8571 - val_loss: 0.3022 - val_accuracy: 0.8667\n",
            "Epoch 240/500\n",
            "4/4 [==============================] - 0s 8ms/step - loss: 0.2944 - accuracy: 0.8571 - val_loss: 0.3015 - val_accuracy: 0.8667\n",
            "Epoch 241/500\n",
            "4/4 [==============================] - 0s 9ms/step - loss: 0.2937 - accuracy: 0.8571 - val_loss: 0.3006 - val_accuracy: 0.8667\n",
            "Epoch 242/500\n",
            "4/4 [==============================] - 0s 8ms/step - loss: 0.2929 - accuracy: 0.8571 - val_loss: 0.2999 - val_accuracy: 0.8667\n",
            "Epoch 243/500\n",
            "4/4 [==============================] - 0s 8ms/step - loss: 0.2921 - accuracy: 0.8571 - val_loss: 0.2991 - val_accuracy: 0.8667\n",
            "Epoch 244/500\n",
            "4/4 [==============================] - 0s 9ms/step - loss: 0.2913 - accuracy: 0.8571 - val_loss: 0.2982 - val_accuracy: 0.8667\n",
            "Epoch 245/500\n",
            "4/4 [==============================] - 0s 8ms/step - loss: 0.2906 - accuracy: 0.8571 - val_loss: 0.2973 - val_accuracy: 0.8667\n",
            "Epoch 246/500\n",
            "4/4 [==============================] - 0s 9ms/step - loss: 0.2899 - accuracy: 0.8571 - val_loss: 0.2965 - val_accuracy: 0.8667\n",
            "Epoch 247/500\n",
            "4/4 [==============================] - 0s 9ms/step - loss: 0.2891 - accuracy: 0.8571 - val_loss: 0.2957 - val_accuracy: 0.8667\n",
            "Epoch 248/500\n",
            "4/4 [==============================] - 0s 9ms/step - loss: 0.2884 - accuracy: 0.8571 - val_loss: 0.2951 - val_accuracy: 0.8667\n",
            "Epoch 249/500\n",
            "4/4 [==============================] - 0s 10ms/step - loss: 0.2877 - accuracy: 0.8571 - val_loss: 0.2946 - val_accuracy: 0.8667\n",
            "Epoch 250/500\n",
            "4/4 [==============================] - 0s 8ms/step - loss: 0.2870 - accuracy: 0.8571 - val_loss: 0.2939 - val_accuracy: 0.8667\n",
            "Epoch 251/500\n",
            "4/4 [==============================] - 0s 9ms/step - loss: 0.2863 - accuracy: 0.8571 - val_loss: 0.2933 - val_accuracy: 0.8667\n",
            "Epoch 252/500\n",
            "4/4 [==============================] - 0s 8ms/step - loss: 0.2856 - accuracy: 0.8571 - val_loss: 0.2924 - val_accuracy: 0.8667\n",
            "Epoch 253/500\n",
            "4/4 [==============================] - 0s 9ms/step - loss: 0.2848 - accuracy: 0.8571 - val_loss: 0.2912 - val_accuracy: 0.8667\n",
            "Epoch 254/500\n",
            "4/4 [==============================] - 0s 9ms/step - loss: 0.2841 - accuracy: 0.8571 - val_loss: 0.2901 - val_accuracy: 0.8667\n",
            "Epoch 255/500\n",
            "4/4 [==============================] - 0s 8ms/step - loss: 0.2834 - accuracy: 0.8571 - val_loss: 0.2894 - val_accuracy: 0.8667\n",
            "Epoch 256/500\n",
            "4/4 [==============================] - 0s 10ms/step - loss: 0.2826 - accuracy: 0.8571 - val_loss: 0.2882 - val_accuracy: 0.8667\n",
            "Epoch 257/500\n",
            "4/4 [==============================] - 0s 9ms/step - loss: 0.2818 - accuracy: 0.8571 - val_loss: 0.2869 - val_accuracy: 0.8667\n",
            "Epoch 258/500\n",
            "4/4 [==============================] - 0s 9ms/step - loss: 0.2812 - accuracy: 0.8762 - val_loss: 0.2853 - val_accuracy: 0.8667\n",
            "Epoch 259/500\n",
            "4/4 [==============================] - 0s 10ms/step - loss: 0.2803 - accuracy: 0.8762 - val_loss: 0.2838 - val_accuracy: 0.8667\n",
            "Epoch 260/500\n",
            "4/4 [==============================] - 0s 7ms/step - loss: 0.2796 - accuracy: 0.8762 - val_loss: 0.2822 - val_accuracy: 0.8667\n",
            "Epoch 261/500\n",
            "4/4 [==============================] - 0s 10ms/step - loss: 0.2788 - accuracy: 0.8762 - val_loss: 0.2807 - val_accuracy: 0.8667\n",
            "Epoch 262/500\n",
            "4/4 [==============================] - 0s 9ms/step - loss: 0.2780 - accuracy: 0.8762 - val_loss: 0.2791 - val_accuracy: 0.8667\n",
            "Epoch 263/500\n",
            "4/4 [==============================] - 0s 9ms/step - loss: 0.2777 - accuracy: 0.8762 - val_loss: 0.2778 - val_accuracy: 0.8667\n",
            "Epoch 264/500\n",
            "4/4 [==============================] - 0s 8ms/step - loss: 0.2768 - accuracy: 0.8762 - val_loss: 0.2771 - val_accuracy: 0.8667\n",
            "Epoch 265/500\n",
            "4/4 [==============================] - 0s 9ms/step - loss: 0.2760 - accuracy: 0.8762 - val_loss: 0.2766 - val_accuracy: 0.8667\n",
            "Epoch 266/500\n",
            "4/4 [==============================] - 0s 9ms/step - loss: 0.2752 - accuracy: 0.8762 - val_loss: 0.2760 - val_accuracy: 0.8667\n",
            "Epoch 267/500\n",
            "4/4 [==============================] - 0s 8ms/step - loss: 0.2744 - accuracy: 0.8762 - val_loss: 0.2753 - val_accuracy: 0.8667\n",
            "Epoch 268/500\n",
            "4/4 [==============================] - 0s 8ms/step - loss: 0.2737 - accuracy: 0.8762 - val_loss: 0.2749 - val_accuracy: 0.8667\n",
            "Epoch 269/500\n",
            "4/4 [==============================] - 0s 11ms/step - loss: 0.2729 - accuracy: 0.8762 - val_loss: 0.2742 - val_accuracy: 0.8667\n",
            "Epoch 270/500\n",
            "4/4 [==============================] - 0s 11ms/step - loss: 0.2721 - accuracy: 0.8762 - val_loss: 0.2734 - val_accuracy: 0.8667\n",
            "Epoch 271/500\n",
            "4/4 [==============================] - 0s 10ms/step - loss: 0.2713 - accuracy: 0.8762 - val_loss: 0.2726 - val_accuracy: 0.8667\n",
            "Epoch 272/500\n",
            "4/4 [==============================] - 0s 9ms/step - loss: 0.2706 - accuracy: 0.8762 - val_loss: 0.2720 - val_accuracy: 0.8667\n",
            "Epoch 273/500\n",
            "4/4 [==============================] - 0s 9ms/step - loss: 0.2698 - accuracy: 0.8762 - val_loss: 0.2710 - val_accuracy: 0.8667\n",
            "Epoch 274/500\n",
            "4/4 [==============================] - 0s 9ms/step - loss: 0.2690 - accuracy: 0.8762 - val_loss: 0.2703 - val_accuracy: 0.8667\n",
            "Epoch 275/500\n",
            "4/4 [==============================] - 0s 10ms/step - loss: 0.2683 - accuracy: 0.8762 - val_loss: 0.2697 - val_accuracy: 0.8667\n",
            "Epoch 276/500\n",
            "4/4 [==============================] - 0s 9ms/step - loss: 0.2676 - accuracy: 0.8762 - val_loss: 0.2689 - val_accuracy: 0.8667\n",
            "Epoch 277/500\n",
            "4/4 [==============================] - 0s 10ms/step - loss: 0.2669 - accuracy: 0.8762 - val_loss: 0.2683 - val_accuracy: 0.8667\n",
            "Epoch 278/500\n",
            "4/4 [==============================] - 0s 8ms/step - loss: 0.2662 - accuracy: 0.8762 - val_loss: 0.2679 - val_accuracy: 0.8667\n",
            "Epoch 279/500\n",
            "4/4 [==============================] - 0s 11ms/step - loss: 0.2655 - accuracy: 0.8762 - val_loss: 0.2674 - val_accuracy: 0.8667\n",
            "Epoch 280/500\n",
            "4/4 [==============================] - 0s 9ms/step - loss: 0.2649 - accuracy: 0.8762 - val_loss: 0.2665 - val_accuracy: 0.8667\n",
            "Epoch 281/500\n",
            "4/4 [==============================] - 0s 9ms/step - loss: 0.2642 - accuracy: 0.8762 - val_loss: 0.2652 - val_accuracy: 0.8667\n",
            "Epoch 282/500\n",
            "4/4 [==============================] - 0s 9ms/step - loss: 0.2635 - accuracy: 0.8762 - val_loss: 0.2641 - val_accuracy: 0.8667\n",
            "Epoch 283/500\n",
            "4/4 [==============================] - 0s 10ms/step - loss: 0.2628 - accuracy: 0.8762 - val_loss: 0.2629 - val_accuracy: 0.8667\n",
            "Epoch 284/500\n",
            "4/4 [==============================] - 0s 9ms/step - loss: 0.2622 - accuracy: 0.8762 - val_loss: 0.2620 - val_accuracy: 0.8667\n",
            "Epoch 285/500\n",
            "4/4 [==============================] - 0s 10ms/step - loss: 0.2614 - accuracy: 0.8762 - val_loss: 0.2613 - val_accuracy: 0.8667\n",
            "Epoch 286/500\n",
            "4/4 [==============================] - 0s 9ms/step - loss: 0.2607 - accuracy: 0.8762 - val_loss: 0.2604 - val_accuracy: 0.8667\n",
            "Epoch 287/500\n",
            "4/4 [==============================] - 0s 10ms/step - loss: 0.2601 - accuracy: 0.8762 - val_loss: 0.2597 - val_accuracy: 0.8667\n",
            "Epoch 288/500\n",
            "4/4 [==============================] - 0s 9ms/step - loss: 0.2594 - accuracy: 0.8762 - val_loss: 0.2585 - val_accuracy: 0.8667\n",
            "Epoch 289/500\n",
            "4/4 [==============================] - 0s 9ms/step - loss: 0.2587 - accuracy: 0.8762 - val_loss: 0.2577 - val_accuracy: 0.8667\n",
            "Epoch 290/500\n",
            "4/4 [==============================] - 0s 11ms/step - loss: 0.2579 - accuracy: 0.8762 - val_loss: 0.2565 - val_accuracy: 0.8667\n",
            "Epoch 291/500\n",
            "4/4 [==============================] - 0s 9ms/step - loss: 0.2570 - accuracy: 0.8762 - val_loss: 0.2555 - val_accuracy: 0.8667\n",
            "Epoch 292/500\n",
            "4/4 [==============================] - 0s 10ms/step - loss: 0.2563 - accuracy: 0.8762 - val_loss: 0.2544 - val_accuracy: 0.8667\n",
            "Epoch 293/500\n",
            "4/4 [==============================] - 0s 9ms/step - loss: 0.2556 - accuracy: 0.8762 - val_loss: 0.2536 - val_accuracy: 0.8667\n",
            "Epoch 294/500\n",
            "4/4 [==============================] - 0s 11ms/step - loss: 0.2548 - accuracy: 0.8857 - val_loss: 0.2529 - val_accuracy: 0.8667\n",
            "Epoch 295/500\n",
            "4/4 [==============================] - 0s 9ms/step - loss: 0.2541 - accuracy: 0.8857 - val_loss: 0.2525 - val_accuracy: 0.8667\n",
            "Epoch 296/500\n",
            "4/4 [==============================] - 0s 9ms/step - loss: 0.2533 - accuracy: 0.8762 - val_loss: 0.2520 - val_accuracy: 0.8667\n",
            "Epoch 297/500\n",
            "4/4 [==============================] - 0s 9ms/step - loss: 0.2527 - accuracy: 0.8762 - val_loss: 0.2515 - val_accuracy: 0.8667\n",
            "Epoch 298/500\n",
            "4/4 [==============================] - 0s 9ms/step - loss: 0.2519 - accuracy: 0.8762 - val_loss: 0.2509 - val_accuracy: 0.8667\n",
            "Epoch 299/500\n",
            "4/4 [==============================] - 0s 11ms/step - loss: 0.2512 - accuracy: 0.8762 - val_loss: 0.2504 - val_accuracy: 0.8667\n",
            "Epoch 300/500\n",
            "4/4 [==============================] - 0s 9ms/step - loss: 0.2505 - accuracy: 0.8762 - val_loss: 0.2499 - val_accuracy: 0.8667\n",
            "Epoch 301/500\n",
            "4/4 [==============================] - 0s 12ms/step - loss: 0.2499 - accuracy: 0.8762 - val_loss: 0.2492 - val_accuracy: 0.8667\n",
            "Epoch 302/500\n",
            "4/4 [==============================] - 0s 12ms/step - loss: 0.2492 - accuracy: 0.8762 - val_loss: 0.2488 - val_accuracy: 0.8667\n",
            "Epoch 303/500\n",
            "4/4 [==============================] - 0s 9ms/step - loss: 0.2486 - accuracy: 0.8762 - val_loss: 0.2481 - val_accuracy: 0.8667\n",
            "Epoch 304/500\n",
            "4/4 [==============================] - 0s 10ms/step - loss: 0.2479 - accuracy: 0.8762 - val_loss: 0.2472 - val_accuracy: 0.8667\n",
            "Epoch 305/500\n",
            "4/4 [==============================] - 0s 9ms/step - loss: 0.2472 - accuracy: 0.8857 - val_loss: 0.2466 - val_accuracy: 0.8667\n",
            "Epoch 306/500\n",
            "4/4 [==============================] - 0s 12ms/step - loss: 0.2465 - accuracy: 0.8857 - val_loss: 0.2459 - val_accuracy: 0.8667\n",
            "Epoch 307/500\n",
            "4/4 [==============================] - 0s 10ms/step - loss: 0.2457 - accuracy: 0.8857 - val_loss: 0.2452 - val_accuracy: 0.8667\n",
            "Epoch 308/500\n",
            "4/4 [==============================] - 0s 9ms/step - loss: 0.2451 - accuracy: 0.8857 - val_loss: 0.2442 - val_accuracy: 0.8889\n",
            "Epoch 309/500\n",
            "4/4 [==============================] - 0s 10ms/step - loss: 0.2443 - accuracy: 0.8857 - val_loss: 0.2434 - val_accuracy: 0.8889\n",
            "Epoch 310/500\n",
            "4/4 [==============================] - 0s 10ms/step - loss: 0.2435 - accuracy: 0.8857 - val_loss: 0.2426 - val_accuracy: 0.8889\n",
            "Epoch 311/500\n",
            "4/4 [==============================] - 0s 9ms/step - loss: 0.2428 - accuracy: 0.8857 - val_loss: 0.2418 - val_accuracy: 0.8889\n",
            "Epoch 312/500\n",
            "4/4 [==============================] - 0s 9ms/step - loss: 0.2422 - accuracy: 0.8857 - val_loss: 0.2407 - val_accuracy: 0.9111\n",
            "Epoch 313/500\n",
            "4/4 [==============================] - 0s 9ms/step - loss: 0.2414 - accuracy: 0.8857 - val_loss: 0.2400 - val_accuracy: 0.9111\n",
            "Epoch 314/500\n",
            "4/4 [==============================] - 0s 9ms/step - loss: 0.2408 - accuracy: 0.8857 - val_loss: 0.2391 - val_accuracy: 0.9111\n",
            "Epoch 315/500\n",
            "4/4 [==============================] - 0s 9ms/step - loss: 0.2401 - accuracy: 0.8857 - val_loss: 0.2381 - val_accuracy: 0.9111\n",
            "Epoch 316/500\n",
            "4/4 [==============================] - 0s 9ms/step - loss: 0.2394 - accuracy: 0.8857 - val_loss: 0.2371 - val_accuracy: 0.9111\n",
            "Epoch 317/500\n",
            "4/4 [==============================] - 0s 10ms/step - loss: 0.2387 - accuracy: 0.8857 - val_loss: 0.2359 - val_accuracy: 0.9111\n",
            "Epoch 318/500\n",
            "4/4 [==============================] - 0s 10ms/step - loss: 0.2380 - accuracy: 0.8952 - val_loss: 0.2346 - val_accuracy: 0.9111\n",
            "Epoch 319/500\n",
            "4/4 [==============================] - 0s 9ms/step - loss: 0.2373 - accuracy: 0.8952 - val_loss: 0.2335 - val_accuracy: 0.9111\n",
            "Epoch 320/500\n",
            "4/4 [==============================] - 0s 9ms/step - loss: 0.2367 - accuracy: 0.8952 - val_loss: 0.2323 - val_accuracy: 0.9333\n",
            "Epoch 321/500\n",
            "4/4 [==============================] - 0s 9ms/step - loss: 0.2359 - accuracy: 0.8952 - val_loss: 0.2312 - val_accuracy: 0.9333\n",
            "Epoch 322/500\n",
            "4/4 [==============================] - 0s 9ms/step - loss: 0.2352 - accuracy: 0.8952 - val_loss: 0.2301 - val_accuracy: 0.9333\n",
            "Epoch 323/500\n",
            "4/4 [==============================] - 0s 9ms/step - loss: 0.2343 - accuracy: 0.8952 - val_loss: 0.2289 - val_accuracy: 0.9333\n",
            "Epoch 324/500\n",
            "4/4 [==============================] - 0s 9ms/step - loss: 0.2336 - accuracy: 0.8952 - val_loss: 0.2273 - val_accuracy: 0.9333\n",
            "Epoch 325/500\n",
            "4/4 [==============================] - 0s 9ms/step - loss: 0.2325 - accuracy: 0.8952 - val_loss: 0.2259 - val_accuracy: 0.9333\n",
            "Epoch 326/500\n",
            "4/4 [==============================] - 0s 9ms/step - loss: 0.2319 - accuracy: 0.9048 - val_loss: 0.2244 - val_accuracy: 0.9333\n",
            "Epoch 327/500\n",
            "4/4 [==============================] - 0s 9ms/step - loss: 0.2309 - accuracy: 0.9048 - val_loss: 0.2232 - val_accuracy: 0.9333\n",
            "Epoch 328/500\n",
            "4/4 [==============================] - 0s 9ms/step - loss: 0.2301 - accuracy: 0.9048 - val_loss: 0.2219 - val_accuracy: 0.9333\n",
            "Epoch 329/500\n",
            "4/4 [==============================] - 0s 12ms/step - loss: 0.2291 - accuracy: 0.9143 - val_loss: 0.2209 - val_accuracy: 0.9333\n",
            "Epoch 330/500\n",
            "4/4 [==============================] - 0s 10ms/step - loss: 0.2282 - accuracy: 0.9143 - val_loss: 0.2198 - val_accuracy: 0.9333\n",
            "Epoch 331/500\n",
            "4/4 [==============================] - 0s 9ms/step - loss: 0.2271 - accuracy: 0.9143 - val_loss: 0.2187 - val_accuracy: 0.9333\n",
            "Epoch 332/500\n",
            "4/4 [==============================] - 0s 9ms/step - loss: 0.2259 - accuracy: 0.9143 - val_loss: 0.2177 - val_accuracy: 0.9333\n",
            "Epoch 333/500\n",
            "4/4 [==============================] - 0s 10ms/step - loss: 0.2246 - accuracy: 0.9143 - val_loss: 0.2165 - val_accuracy: 0.9333\n",
            "Epoch 334/500\n",
            "4/4 [==============================] - 0s 10ms/step - loss: 0.2234 - accuracy: 0.9143 - val_loss: 0.2156 - val_accuracy: 0.9333\n",
            "Epoch 335/500\n",
            "4/4 [==============================] - 0s 10ms/step - loss: 0.2221 - accuracy: 0.9143 - val_loss: 0.2146 - val_accuracy: 0.9333\n",
            "Epoch 336/500\n",
            "4/4 [==============================] - 0s 9ms/step - loss: 0.2209 - accuracy: 0.9143 - val_loss: 0.2134 - val_accuracy: 0.9333\n",
            "Epoch 337/500\n",
            "4/4 [==============================] - 0s 9ms/step - loss: 0.2197 - accuracy: 0.9143 - val_loss: 0.2122 - val_accuracy: 0.9333\n",
            "Epoch 338/500\n",
            "4/4 [==============================] - 0s 10ms/step - loss: 0.2182 - accuracy: 0.9143 - val_loss: 0.2111 - val_accuracy: 0.9556\n",
            "Epoch 339/500\n",
            "4/4 [==============================] - 0s 10ms/step - loss: 0.2169 - accuracy: 0.9143 - val_loss: 0.2101 - val_accuracy: 0.9556\n",
            "Epoch 340/500\n",
            "4/4 [==============================] - 0s 10ms/step - loss: 0.2155 - accuracy: 0.9143 - val_loss: 0.2092 - val_accuracy: 0.9556\n",
            "Epoch 341/500\n",
            "4/4 [==============================] - 0s 9ms/step - loss: 0.2143 - accuracy: 0.9143 - val_loss: 0.2080 - val_accuracy: 0.9556\n",
            "Epoch 342/500\n",
            "4/4 [==============================] - 0s 9ms/step - loss: 0.2129 - accuracy: 0.9143 - val_loss: 0.2070 - val_accuracy: 0.9556\n",
            "Epoch 343/500\n",
            "4/4 [==============================] - 0s 9ms/step - loss: 0.2117 - accuracy: 0.9238 - val_loss: 0.2062 - val_accuracy: 0.9556\n",
            "Epoch 344/500\n",
            "4/4 [==============================] - 0s 10ms/step - loss: 0.2104 - accuracy: 0.9238 - val_loss: 0.2053 - val_accuracy: 0.9556\n",
            "Epoch 345/500\n",
            "4/4 [==============================] - 0s 9ms/step - loss: 0.2091 - accuracy: 0.9238 - val_loss: 0.2047 - val_accuracy: 0.9556\n",
            "Epoch 346/500\n",
            "4/4 [==============================] - 0s 10ms/step - loss: 0.2080 - accuracy: 0.9238 - val_loss: 0.2040 - val_accuracy: 0.9556\n",
            "Epoch 347/500\n",
            "4/4 [==============================] - 0s 9ms/step - loss: 0.2065 - accuracy: 0.9238 - val_loss: 0.2032 - val_accuracy: 0.9556\n",
            "Epoch 348/500\n",
            "4/4 [==============================] - 0s 9ms/step - loss: 0.2053 - accuracy: 0.9238 - val_loss: 0.2024 - val_accuracy: 0.9556\n",
            "Epoch 349/500\n",
            "4/4 [==============================] - 0s 12ms/step - loss: 0.2041 - accuracy: 0.9238 - val_loss: 0.2016 - val_accuracy: 0.9556\n",
            "Epoch 350/500\n",
            "4/4 [==============================] - 0s 9ms/step - loss: 0.2029 - accuracy: 0.9333 - val_loss: 0.2009 - val_accuracy: 0.9556\n",
            "Epoch 351/500\n",
            "4/4 [==============================] - 0s 10ms/step - loss: 0.2018 - accuracy: 0.9333 - val_loss: 0.2003 - val_accuracy: 0.9556\n",
            "Epoch 352/500\n",
            "4/4 [==============================] - 0s 9ms/step - loss: 0.2006 - accuracy: 0.9333 - val_loss: 0.1995 - val_accuracy: 0.9556\n",
            "Epoch 353/500\n",
            "4/4 [==============================] - 0s 10ms/step - loss: 0.1997 - accuracy: 0.9333 - val_loss: 0.1986 - val_accuracy: 0.9556\n",
            "Epoch 354/500\n",
            "4/4 [==============================] - 0s 10ms/step - loss: 0.1985 - accuracy: 0.9333 - val_loss: 0.1977 - val_accuracy: 0.9556\n",
            "Epoch 355/500\n",
            "4/4 [==============================] - 0s 10ms/step - loss: 0.1974 - accuracy: 0.9333 - val_loss: 0.1969 - val_accuracy: 0.9556\n",
            "Epoch 356/500\n",
            "4/4 [==============================] - 0s 11ms/step - loss: 0.1964 - accuracy: 0.9333 - val_loss: 0.1959 - val_accuracy: 0.9556\n",
            "Epoch 357/500\n",
            "4/4 [==============================] - 0s 10ms/step - loss: 0.1954 - accuracy: 0.9333 - val_loss: 0.1949 - val_accuracy: 0.9556\n",
            "Epoch 358/500\n",
            "4/4 [==============================] - 0s 12ms/step - loss: 0.1943 - accuracy: 0.9429 - val_loss: 0.1942 - val_accuracy: 0.9556\n",
            "Epoch 359/500\n",
            "4/4 [==============================] - 0s 9ms/step - loss: 0.1932 - accuracy: 0.9429 - val_loss: 0.1935 - val_accuracy: 0.9556\n",
            "Epoch 360/500\n",
            "4/4 [==============================] - 0s 10ms/step - loss: 0.1923 - accuracy: 0.9429 - val_loss: 0.1928 - val_accuracy: 0.9556\n",
            "Epoch 361/500\n",
            "4/4 [==============================] - 0s 10ms/step - loss: 0.1912 - accuracy: 0.9429 - val_loss: 0.1921 - val_accuracy: 0.9556\n",
            "Epoch 362/500\n",
            "4/4 [==============================] - 0s 9ms/step - loss: 0.1902 - accuracy: 0.9429 - val_loss: 0.1915 - val_accuracy: 0.9556\n",
            "Epoch 363/500\n",
            "4/4 [==============================] - 0s 10ms/step - loss: 0.1892 - accuracy: 0.9429 - val_loss: 0.1909 - val_accuracy: 0.9556\n",
            "Epoch 364/500\n",
            "4/4 [==============================] - 0s 9ms/step - loss: 0.1882 - accuracy: 0.9429 - val_loss: 0.1902 - val_accuracy: 0.9556\n",
            "Epoch 365/500\n",
            "4/4 [==============================] - 0s 10ms/step - loss: 0.1873 - accuracy: 0.9429 - val_loss: 0.1893 - val_accuracy: 0.9556\n",
            "Epoch 366/500\n",
            "4/4 [==============================] - 0s 9ms/step - loss: 0.1865 - accuracy: 0.9429 - val_loss: 0.1884 - val_accuracy: 0.9556\n",
            "Epoch 367/500\n",
            "4/4 [==============================] - 0s 10ms/step - loss: 0.1857 - accuracy: 0.9429 - val_loss: 0.1876 - val_accuracy: 0.9556\n",
            "Epoch 368/500\n",
            "4/4 [==============================] - 0s 11ms/step - loss: 0.1847 - accuracy: 0.9429 - val_loss: 0.1870 - val_accuracy: 0.9556\n",
            "Epoch 369/500\n",
            "4/4 [==============================] - 0s 10ms/step - loss: 0.1838 - accuracy: 0.9429 - val_loss: 0.1866 - val_accuracy: 0.9556\n",
            "Epoch 370/500\n",
            "4/4 [==============================] - 0s 10ms/step - loss: 0.1829 - accuracy: 0.9429 - val_loss: 0.1861 - val_accuracy: 0.9556\n",
            "Epoch 371/500\n",
            "4/4 [==============================] - 0s 10ms/step - loss: 0.1822 - accuracy: 0.9429 - val_loss: 0.1855 - val_accuracy: 0.9556\n",
            "Epoch 372/500\n",
            "4/4 [==============================] - 0s 10ms/step - loss: 0.1814 - accuracy: 0.9429 - val_loss: 0.1847 - val_accuracy: 0.9556\n",
            "Epoch 373/500\n",
            "4/4 [==============================] - 0s 9ms/step - loss: 0.1805 - accuracy: 0.9429 - val_loss: 0.1839 - val_accuracy: 0.9556\n",
            "Epoch 374/500\n",
            "4/4 [==============================] - 0s 9ms/step - loss: 0.1798 - accuracy: 0.9429 - val_loss: 0.1830 - val_accuracy: 0.9556\n",
            "Epoch 375/500\n",
            "4/4 [==============================] - 0s 10ms/step - loss: 0.1790 - accuracy: 0.9429 - val_loss: 0.1822 - val_accuracy: 0.9556\n",
            "Epoch 376/500\n",
            "4/4 [==============================] - 0s 10ms/step - loss: 0.1781 - accuracy: 0.9429 - val_loss: 0.1813 - val_accuracy: 0.9556\n",
            "Epoch 377/500\n",
            "4/4 [==============================] - 0s 11ms/step - loss: 0.1774 - accuracy: 0.9429 - val_loss: 0.1802 - val_accuracy: 0.9556\n",
            "Epoch 378/500\n",
            "4/4 [==============================] - 0s 10ms/step - loss: 0.1766 - accuracy: 0.9429 - val_loss: 0.1792 - val_accuracy: 0.9556\n",
            "Epoch 379/500\n",
            "4/4 [==============================] - 0s 9ms/step - loss: 0.1758 - accuracy: 0.9524 - val_loss: 0.1783 - val_accuracy: 0.9556\n",
            "Epoch 380/500\n",
            "4/4 [==============================] - 0s 12ms/step - loss: 0.1752 - accuracy: 0.9524 - val_loss: 0.1773 - val_accuracy: 0.9556\n",
            "Epoch 381/500\n",
            "4/4 [==============================] - 0s 10ms/step - loss: 0.1745 - accuracy: 0.9524 - val_loss: 0.1765 - val_accuracy: 0.9778\n",
            "Epoch 382/500\n",
            "4/4 [==============================] - 0s 9ms/step - loss: 0.1736 - accuracy: 0.9524 - val_loss: 0.1762 - val_accuracy: 0.9778\n",
            "Epoch 383/500\n",
            "4/4 [==============================] - 0s 10ms/step - loss: 0.1730 - accuracy: 0.9524 - val_loss: 0.1759 - val_accuracy: 0.9778\n",
            "Epoch 384/500\n",
            "4/4 [==============================] - 0s 10ms/step - loss: 0.1722 - accuracy: 0.9524 - val_loss: 0.1753 - val_accuracy: 0.9778\n",
            "Epoch 385/500\n",
            "4/4 [==============================] - 0s 9ms/step - loss: 0.1715 - accuracy: 0.9524 - val_loss: 0.1746 - val_accuracy: 0.9778\n",
            "Epoch 386/500\n",
            "4/4 [==============================] - 0s 10ms/step - loss: 0.1708 - accuracy: 0.9524 - val_loss: 0.1741 - val_accuracy: 0.9778\n",
            "Epoch 387/500\n",
            "4/4 [==============================] - 0s 9ms/step - loss: 0.1700 - accuracy: 0.9524 - val_loss: 0.1735 - val_accuracy: 0.9778\n",
            "Epoch 388/500\n",
            "4/4 [==============================] - 0s 10ms/step - loss: 0.1694 - accuracy: 0.9524 - val_loss: 0.1728 - val_accuracy: 0.9778\n",
            "Epoch 389/500\n",
            "4/4 [==============================] - 0s 11ms/step - loss: 0.1688 - accuracy: 0.9524 - val_loss: 0.1721 - val_accuracy: 0.9778\n",
            "Epoch 390/500\n",
            "4/4 [==============================] - 0s 9ms/step - loss: 0.1680 - accuracy: 0.9524 - val_loss: 0.1717 - val_accuracy: 0.9778\n",
            "Epoch 391/500\n",
            "4/4 [==============================] - 0s 10ms/step - loss: 0.1673 - accuracy: 0.9524 - val_loss: 0.1712 - val_accuracy: 0.9778\n",
            "Epoch 392/500\n",
            "4/4 [==============================] - 0s 9ms/step - loss: 0.1665 - accuracy: 0.9524 - val_loss: 0.1704 - val_accuracy: 0.9778\n",
            "Epoch 393/500\n",
            "4/4 [==============================] - 0s 9ms/step - loss: 0.1659 - accuracy: 0.9524 - val_loss: 0.1695 - val_accuracy: 0.9778\n",
            "Epoch 394/500\n",
            "4/4 [==============================] - 0s 9ms/step - loss: 0.1652 - accuracy: 0.9524 - val_loss: 0.1690 - val_accuracy: 0.9778\n",
            "Epoch 395/500\n",
            "4/4 [==============================] - 0s 9ms/step - loss: 0.1644 - accuracy: 0.9524 - val_loss: 0.1682 - val_accuracy: 0.9778\n",
            "Epoch 396/500\n",
            "4/4 [==============================] - 0s 12ms/step - loss: 0.1638 - accuracy: 0.9524 - val_loss: 0.1675 - val_accuracy: 0.9778\n",
            "Epoch 397/500\n",
            "4/4 [==============================] - 0s 11ms/step - loss: 0.1630 - accuracy: 0.9619 - val_loss: 0.1669 - val_accuracy: 0.9778\n",
            "Epoch 398/500\n",
            "4/4 [==============================] - 0s 9ms/step - loss: 0.1625 - accuracy: 0.9619 - val_loss: 0.1667 - val_accuracy: 0.9778\n",
            "Epoch 399/500\n",
            "4/4 [==============================] - 0s 10ms/step - loss: 0.1618 - accuracy: 0.9619 - val_loss: 0.1663 - val_accuracy: 0.9778\n",
            "Epoch 400/500\n",
            "4/4 [==============================] - 0s 9ms/step - loss: 0.1611 - accuracy: 0.9619 - val_loss: 0.1662 - val_accuracy: 0.9778\n",
            "Epoch 401/500\n",
            "4/4 [==============================] - 0s 10ms/step - loss: 0.1607 - accuracy: 0.9619 - val_loss: 0.1660 - val_accuracy: 0.9778\n",
            "Epoch 402/500\n",
            "4/4 [==============================] - 0s 10ms/step - loss: 0.1601 - accuracy: 0.9619 - val_loss: 0.1653 - val_accuracy: 0.9778\n",
            "Epoch 403/500\n",
            "4/4 [==============================] - 0s 9ms/step - loss: 0.1596 - accuracy: 0.9619 - val_loss: 0.1643 - val_accuracy: 0.9778\n",
            "Epoch 404/500\n",
            "4/4 [==============================] - 0s 10ms/step - loss: 0.1589 - accuracy: 0.9619 - val_loss: 0.1636 - val_accuracy: 0.9778\n",
            "Epoch 405/500\n",
            "4/4 [==============================] - 0s 10ms/step - loss: 0.1583 - accuracy: 0.9619 - val_loss: 0.1628 - val_accuracy: 0.9778\n",
            "Epoch 406/500\n",
            "4/4 [==============================] - 0s 12ms/step - loss: 0.1577 - accuracy: 0.9619 - val_loss: 0.1622 - val_accuracy: 0.9778\n",
            "Epoch 407/500\n",
            "4/4 [==============================] - 0s 11ms/step - loss: 0.1571 - accuracy: 0.9619 - val_loss: 0.1614 - val_accuracy: 0.9778\n",
            "Epoch 408/500\n",
            "4/4 [==============================] - 0s 9ms/step - loss: 0.1565 - accuracy: 0.9619 - val_loss: 0.1606 - val_accuracy: 0.9778\n",
            "Epoch 409/500\n",
            "4/4 [==============================] - 0s 9ms/step - loss: 0.1559 - accuracy: 0.9619 - val_loss: 0.1600 - val_accuracy: 0.9778\n",
            "Epoch 410/500\n",
            "4/4 [==============================] - 0s 9ms/step - loss: 0.1554 - accuracy: 0.9619 - val_loss: 0.1595 - val_accuracy: 0.9778\n",
            "Epoch 411/500\n",
            "4/4 [==============================] - 0s 9ms/step - loss: 0.1548 - accuracy: 0.9619 - val_loss: 0.1588 - val_accuracy: 0.9778\n",
            "Epoch 412/500\n",
            "4/4 [==============================] - 0s 11ms/step - loss: 0.1542 - accuracy: 0.9619 - val_loss: 0.1580 - val_accuracy: 1.0000\n",
            "Epoch 413/500\n",
            "4/4 [==============================] - 0s 10ms/step - loss: 0.1537 - accuracy: 0.9619 - val_loss: 0.1573 - val_accuracy: 1.0000\n",
            "Epoch 414/500\n",
            "4/4 [==============================] - 0s 9ms/step - loss: 0.1532 - accuracy: 0.9619 - val_loss: 0.1564 - val_accuracy: 1.0000\n",
            "Epoch 415/500\n",
            "4/4 [==============================] - 0s 9ms/step - loss: 0.1526 - accuracy: 0.9619 - val_loss: 0.1556 - val_accuracy: 1.0000\n",
            "Epoch 416/500\n",
            "4/4 [==============================] - 0s 11ms/step - loss: 0.1520 - accuracy: 0.9619 - val_loss: 0.1550 - val_accuracy: 1.0000\n",
            "Epoch 417/500\n",
            "4/4 [==============================] - 0s 9ms/step - loss: 0.1516 - accuracy: 0.9619 - val_loss: 0.1544 - val_accuracy: 1.0000\n",
            "Epoch 418/500\n",
            "4/4 [==============================] - 0s 11ms/step - loss: 0.1509 - accuracy: 0.9619 - val_loss: 0.1538 - val_accuracy: 1.0000\n",
            "Epoch 419/500\n",
            "4/4 [==============================] - 0s 9ms/step - loss: 0.1503 - accuracy: 0.9619 - val_loss: 0.1533 - val_accuracy: 1.0000\n",
            "Epoch 420/500\n",
            "4/4 [==============================] - 0s 9ms/step - loss: 0.1498 - accuracy: 0.9619 - val_loss: 0.1529 - val_accuracy: 1.0000\n",
            "Epoch 421/500\n",
            "4/4 [==============================] - 0s 8ms/step - loss: 0.1493 - accuracy: 0.9619 - val_loss: 0.1526 - val_accuracy: 1.0000\n",
            "Epoch 422/500\n",
            "4/4 [==============================] - 0s 9ms/step - loss: 0.1487 - accuracy: 0.9619 - val_loss: 0.1523 - val_accuracy: 1.0000\n",
            "Epoch 423/500\n",
            "4/4 [==============================] - 0s 9ms/step - loss: 0.1483 - accuracy: 0.9619 - val_loss: 0.1521 - val_accuracy: 1.0000\n",
            "Epoch 424/500\n",
            "4/4 [==============================] - 0s 11ms/step - loss: 0.1477 - accuracy: 0.9619 - val_loss: 0.1519 - val_accuracy: 1.0000\n",
            "Epoch 425/500\n",
            "4/4 [==============================] - 0s 11ms/step - loss: 0.1472 - accuracy: 0.9619 - val_loss: 0.1513 - val_accuracy: 1.0000\n",
            "Epoch 426/500\n",
            "4/4 [==============================] - 0s 10ms/step - loss: 0.1467 - accuracy: 0.9619 - val_loss: 0.1510 - val_accuracy: 1.0000\n",
            "Epoch 427/500\n",
            "4/4 [==============================] - 0s 10ms/step - loss: 0.1462 - accuracy: 0.9619 - val_loss: 0.1507 - val_accuracy: 1.0000\n",
            "Epoch 428/500\n",
            "4/4 [==============================] - 0s 9ms/step - loss: 0.1457 - accuracy: 0.9619 - val_loss: 0.1502 - val_accuracy: 1.0000\n",
            "Epoch 429/500\n",
            "4/4 [==============================] - 0s 10ms/step - loss: 0.1452 - accuracy: 0.9619 - val_loss: 0.1495 - val_accuracy: 1.0000\n",
            "Epoch 430/500\n",
            "4/4 [==============================] - 0s 12ms/step - loss: 0.1447 - accuracy: 0.9619 - val_loss: 0.1488 - val_accuracy: 1.0000\n",
            "Epoch 431/500\n",
            "4/4 [==============================] - 0s 11ms/step - loss: 0.1443 - accuracy: 0.9619 - val_loss: 0.1481 - val_accuracy: 1.0000\n",
            "Epoch 432/500\n",
            "4/4 [==============================] - 0s 10ms/step - loss: 0.1437 - accuracy: 0.9619 - val_loss: 0.1476 - val_accuracy: 1.0000\n",
            "Epoch 433/500\n",
            "4/4 [==============================] - 0s 9ms/step - loss: 0.1433 - accuracy: 0.9619 - val_loss: 0.1472 - val_accuracy: 1.0000\n",
            "Epoch 434/500\n",
            "4/4 [==============================] - 0s 12ms/step - loss: 0.1428 - accuracy: 0.9619 - val_loss: 0.1466 - val_accuracy: 1.0000\n",
            "Epoch 435/500\n",
            "4/4 [==============================] - 0s 9ms/step - loss: 0.1424 - accuracy: 0.9619 - val_loss: 0.1463 - val_accuracy: 1.0000\n",
            "Epoch 436/500\n",
            "4/4 [==============================] - 0s 10ms/step - loss: 0.1418 - accuracy: 0.9619 - val_loss: 0.1458 - val_accuracy: 1.0000\n",
            "Epoch 437/500\n",
            "4/4 [==============================] - 0s 11ms/step - loss: 0.1414 - accuracy: 0.9619 - val_loss: 0.1451 - val_accuracy: 1.0000\n",
            "Epoch 438/500\n",
            "4/4 [==============================] - 0s 10ms/step - loss: 0.1409 - accuracy: 0.9619 - val_loss: 0.1447 - val_accuracy: 1.0000\n",
            "Epoch 439/500\n",
            "4/4 [==============================] - 0s 11ms/step - loss: 0.1405 - accuracy: 0.9619 - val_loss: 0.1442 - val_accuracy: 1.0000\n",
            "Epoch 440/500\n",
            "4/4 [==============================] - 0s 11ms/step - loss: 0.1400 - accuracy: 0.9619 - val_loss: 0.1435 - val_accuracy: 1.0000\n",
            "Epoch 441/500\n",
            "4/4 [==============================] - 0s 9ms/step - loss: 0.1396 - accuracy: 0.9619 - val_loss: 0.1428 - val_accuracy: 1.0000\n",
            "Epoch 442/500\n",
            "4/4 [==============================] - 0s 10ms/step - loss: 0.1391 - accuracy: 0.9619 - val_loss: 0.1419 - val_accuracy: 1.0000\n",
            "Epoch 443/500\n",
            "4/4 [==============================] - 0s 11ms/step - loss: 0.1388 - accuracy: 0.9619 - val_loss: 0.1412 - val_accuracy: 1.0000\n",
            "Epoch 444/500\n",
            "4/4 [==============================] - 0s 10ms/step - loss: 0.1384 - accuracy: 0.9619 - val_loss: 0.1408 - val_accuracy: 1.0000\n",
            "Epoch 445/500\n",
            "4/4 [==============================] - 0s 10ms/step - loss: 0.1380 - accuracy: 0.9619 - val_loss: 0.1405 - val_accuracy: 1.0000\n",
            "Epoch 446/500\n",
            "4/4 [==============================] - 0s 9ms/step - loss: 0.1376 - accuracy: 0.9619 - val_loss: 0.1402 - val_accuracy: 1.0000\n",
            "Epoch 447/500\n",
            "4/4 [==============================] - 0s 10ms/step - loss: 0.1372 - accuracy: 0.9619 - val_loss: 0.1397 - val_accuracy: 1.0000\n",
            "Epoch 448/500\n",
            "4/4 [==============================] - 0s 9ms/step - loss: 0.1368 - accuracy: 0.9619 - val_loss: 0.1391 - val_accuracy: 1.0000\n",
            "Epoch 449/500\n",
            "4/4 [==============================] - 0s 10ms/step - loss: 0.1363 - accuracy: 0.9619 - val_loss: 0.1387 - val_accuracy: 1.0000\n",
            "Epoch 450/500\n",
            "4/4 [==============================] - 0s 10ms/step - loss: 0.1358 - accuracy: 0.9619 - val_loss: 0.1383 - val_accuracy: 1.0000\n",
            "Epoch 451/500\n",
            "4/4 [==============================] - 0s 10ms/step - loss: 0.1354 - accuracy: 0.9619 - val_loss: 0.1379 - val_accuracy: 1.0000\n",
            "Epoch 452/500\n",
            "4/4 [==============================] - 0s 10ms/step - loss: 0.1350 - accuracy: 0.9619 - val_loss: 0.1377 - val_accuracy: 1.0000\n",
            "Epoch 453/500\n",
            "4/4 [==============================] - 0s 11ms/step - loss: 0.1345 - accuracy: 0.9619 - val_loss: 0.1372 - val_accuracy: 1.0000\n",
            "Epoch 454/500\n",
            "4/4 [==============================] - 0s 10ms/step - loss: 0.1341 - accuracy: 0.9619 - val_loss: 0.1367 - val_accuracy: 1.0000\n",
            "Epoch 455/500\n",
            "4/4 [==============================] - 0s 9ms/step - loss: 0.1337 - accuracy: 0.9619 - val_loss: 0.1364 - val_accuracy: 1.0000\n",
            "Epoch 456/500\n",
            "4/4 [==============================] - 0s 10ms/step - loss: 0.1333 - accuracy: 0.9619 - val_loss: 0.1360 - val_accuracy: 1.0000\n",
            "Epoch 457/500\n",
            "4/4 [==============================] - 0s 9ms/step - loss: 0.1329 - accuracy: 0.9619 - val_loss: 0.1356 - val_accuracy: 1.0000\n",
            "Epoch 458/500\n",
            "4/4 [==============================] - 0s 10ms/step - loss: 0.1325 - accuracy: 0.9619 - val_loss: 0.1351 - val_accuracy: 1.0000\n",
            "Epoch 459/500\n",
            "4/4 [==============================] - 0s 10ms/step - loss: 0.1321 - accuracy: 0.9619 - val_loss: 0.1346 - val_accuracy: 1.0000\n",
            "Epoch 460/500\n",
            "4/4 [==============================] - 0s 10ms/step - loss: 0.1318 - accuracy: 0.9619 - val_loss: 0.1344 - val_accuracy: 1.0000\n",
            "Epoch 461/500\n",
            "4/4 [==============================] - 0s 9ms/step - loss: 0.1313 - accuracy: 0.9714 - val_loss: 0.1341 - val_accuracy: 1.0000\n",
            "Epoch 462/500\n",
            "4/4 [==============================] - 0s 10ms/step - loss: 0.1309 - accuracy: 0.9714 - val_loss: 0.1338 - val_accuracy: 1.0000\n",
            "Epoch 463/500\n",
            "4/4 [==============================] - 0s 12ms/step - loss: 0.1306 - accuracy: 0.9714 - val_loss: 0.1337 - val_accuracy: 1.0000\n",
            "Epoch 464/500\n",
            "4/4 [==============================] - 0s 9ms/step - loss: 0.1301 - accuracy: 0.9714 - val_loss: 0.1335 - val_accuracy: 1.0000\n",
            "Epoch 465/500\n",
            "4/4 [==============================] - 0s 10ms/step - loss: 0.1298 - accuracy: 0.9714 - val_loss: 0.1333 - val_accuracy: 1.0000\n",
            "Epoch 466/500\n",
            "4/4 [==============================] - 0s 10ms/step - loss: 0.1295 - accuracy: 0.9714 - val_loss: 0.1331 - val_accuracy: 1.0000\n",
            "Epoch 467/500\n",
            "4/4 [==============================] - 0s 10ms/step - loss: 0.1291 - accuracy: 0.9714 - val_loss: 0.1331 - val_accuracy: 1.0000\n",
            "Epoch 468/500\n",
            "4/4 [==============================] - 0s 10ms/step - loss: 0.1287 - accuracy: 0.9714 - val_loss: 0.1329 - val_accuracy: 1.0000\n",
            "Epoch 469/500\n",
            "4/4 [==============================] - 0s 10ms/step - loss: 0.1285 - accuracy: 0.9714 - val_loss: 0.1327 - val_accuracy: 1.0000\n",
            "Epoch 470/500\n",
            "4/4 [==============================] - 0s 9ms/step - loss: 0.1281 - accuracy: 0.9714 - val_loss: 0.1323 - val_accuracy: 1.0000\n",
            "Epoch 471/500\n",
            "4/4 [==============================] - 0s 9ms/step - loss: 0.1279 - accuracy: 0.9714 - val_loss: 0.1317 - val_accuracy: 1.0000\n",
            "Epoch 472/500\n",
            "4/4 [==============================] - 0s 10ms/step - loss: 0.1274 - accuracy: 0.9714 - val_loss: 0.1311 - val_accuracy: 1.0000\n",
            "Epoch 473/500\n",
            "4/4 [==============================] - 0s 11ms/step - loss: 0.1270 - accuracy: 0.9714 - val_loss: 0.1308 - val_accuracy: 1.0000\n",
            "Epoch 474/500\n",
            "4/4 [==============================] - 0s 9ms/step - loss: 0.1268 - accuracy: 0.9714 - val_loss: 0.1304 - val_accuracy: 1.0000\n",
            "Epoch 475/500\n",
            "4/4 [==============================] - 0s 9ms/step - loss: 0.1264 - accuracy: 0.9714 - val_loss: 0.1295 - val_accuracy: 1.0000\n",
            "Epoch 476/500\n",
            "4/4 [==============================] - 0s 11ms/step - loss: 0.1259 - accuracy: 0.9714 - val_loss: 0.1287 - val_accuracy: 1.0000\n",
            "Epoch 477/500\n",
            "4/4 [==============================] - 0s 9ms/step - loss: 0.1254 - accuracy: 0.9714 - val_loss: 0.1279 - val_accuracy: 1.0000\n",
            "Epoch 478/500\n",
            "4/4 [==============================] - 0s 10ms/step - loss: 0.1252 - accuracy: 0.9714 - val_loss: 0.1269 - val_accuracy: 1.0000\n",
            "Epoch 479/500\n",
            "4/4 [==============================] - 0s 12ms/step - loss: 0.1249 - accuracy: 0.9714 - val_loss: 0.1262 - val_accuracy: 1.0000\n",
            "Epoch 480/500\n",
            "4/4 [==============================] - 0s 9ms/step - loss: 0.1248 - accuracy: 0.9619 - val_loss: 0.1254 - val_accuracy: 1.0000\n",
            "Epoch 481/500\n",
            "4/4 [==============================] - 0s 9ms/step - loss: 0.1242 - accuracy: 0.9619 - val_loss: 0.1250 - val_accuracy: 1.0000\n",
            "Epoch 482/500\n",
            "4/4 [==============================] - 0s 11ms/step - loss: 0.1239 - accuracy: 0.9619 - val_loss: 0.1247 - val_accuracy: 1.0000\n",
            "Epoch 483/500\n",
            "4/4 [==============================] - 0s 9ms/step - loss: 0.1236 - accuracy: 0.9619 - val_loss: 0.1244 - val_accuracy: 1.0000\n",
            "Epoch 484/500\n",
            "4/4 [==============================] - 0s 11ms/step - loss: 0.1233 - accuracy: 0.9619 - val_loss: 0.1239 - val_accuracy: 1.0000\n",
            "Epoch 485/500\n",
            "4/4 [==============================] - 0s 9ms/step - loss: 0.1230 - accuracy: 0.9619 - val_loss: 0.1233 - val_accuracy: 1.0000\n",
            "Epoch 486/500\n",
            "4/4 [==============================] - 0s 9ms/step - loss: 0.1228 - accuracy: 0.9619 - val_loss: 0.1228 - val_accuracy: 1.0000\n",
            "Epoch 487/500\n",
            "4/4 [==============================] - 0s 10ms/step - loss: 0.1224 - accuracy: 0.9619 - val_loss: 0.1225 - val_accuracy: 1.0000\n",
            "Epoch 488/500\n",
            "4/4 [==============================] - 0s 10ms/step - loss: 0.1221 - accuracy: 0.9619 - val_loss: 0.1223 - val_accuracy: 1.0000\n",
            "Epoch 489/500\n",
            "4/4 [==============================] - 0s 9ms/step - loss: 0.1218 - accuracy: 0.9619 - val_loss: 0.1222 - val_accuracy: 1.0000\n",
            "Epoch 490/500\n",
            "4/4 [==============================] - 0s 10ms/step - loss: 0.1213 - accuracy: 0.9619 - val_loss: 0.1218 - val_accuracy: 1.0000\n",
            "Epoch 491/500\n",
            "4/4 [==============================] - 0s 10ms/step - loss: 0.1210 - accuracy: 0.9619 - val_loss: 0.1215 - val_accuracy: 1.0000\n",
            "Epoch 492/500\n",
            "4/4 [==============================] - 0s 11ms/step - loss: 0.1207 - accuracy: 0.9619 - val_loss: 0.1214 - val_accuracy: 1.0000\n",
            "Epoch 493/500\n",
            "4/4 [==============================] - 0s 10ms/step - loss: 0.1204 - accuracy: 0.9714 - val_loss: 0.1212 - val_accuracy: 1.0000\n",
            "Epoch 494/500\n",
            "4/4 [==============================] - 0s 9ms/step - loss: 0.1202 - accuracy: 0.9714 - val_loss: 0.1211 - val_accuracy: 1.0000\n",
            "Epoch 495/500\n",
            "4/4 [==============================] - 0s 10ms/step - loss: 0.1198 - accuracy: 0.9714 - val_loss: 0.1206 - val_accuracy: 1.0000\n",
            "Epoch 496/500\n",
            "4/4 [==============================] - 0s 9ms/step - loss: 0.1195 - accuracy: 0.9714 - val_loss: 0.1201 - val_accuracy: 1.0000\n",
            "Epoch 497/500\n",
            "4/4 [==============================] - 0s 9ms/step - loss: 0.1192 - accuracy: 0.9714 - val_loss: 0.1195 - val_accuracy: 1.0000\n",
            "Epoch 498/500\n",
            "4/4 [==============================] - 0s 10ms/step - loss: 0.1189 - accuracy: 0.9619 - val_loss: 0.1189 - val_accuracy: 1.0000\n",
            "Epoch 499/500\n",
            "4/4 [==============================] - 0s 9ms/step - loss: 0.1186 - accuracy: 0.9619 - val_loss: 0.1183 - val_accuracy: 1.0000\n",
            "Epoch 500/500\n",
            "4/4 [==============================] - 0s 10ms/step - loss: 0.1183 - accuracy: 0.9619 - val_loss: 0.1178 - val_accuracy: 1.0000\n"
          ],
          "name": "stdout"
        }
      ]
    },
    {
      "cell_type": "code",
      "metadata": {
        "id": "J1RZn7behl9F",
        "outputId": "42ba4b1a-650d-4db8-94ea-0f2216d63c8d",
        "colab": {
          "base_uri": "https://localhost:8080/",
          "height": 374
        }
      },
      "source": [
        "# plot the loss\n",
        "plt.figure(figsize=(10,6))\n",
        "\n",
        "plt.subplot(1,2,1)\n",
        "plt.plot(r.history['loss'], label='train loss')\n",
        "plt.plot(r.history['val_loss'], label='val loss')\n",
        "plt.legend()\n",
        "plt.savefig('LossVal_loss')\n",
        "\n",
        "# plot the accuracy\n",
        "plt.subplot(1,2,2)\n",
        "plt.plot(r.history['accuracy'], label='train acc')\n",
        "plt.plot(r.history['val_accuracy'], label='val acc')\n",
        "plt.legend()\n",
        "plt.savefig('AccVal_acc')"
      ],
      "execution_count": 38,
      "outputs": [
        {
          "output_type": "display_data",
          "data": {
            "image/png": "[encoded data removed]",
            "text/plain": [
              "<Figure size 720x432 with 2 Axes>"
            ]
          },
          "metadata": {
            "tags": [],
            "needs_background": "light"
          }
        }
      ]
    },
    {
      "cell_type": "code",
      "metadata": {
        "id": "ErVPY-0_EzaP",
        "outputId": "b0dff299-ef64-4aa7-f5ef-05444b21450d",
        "colab": {
          "base_uri": "https://localhost:8080/",
          "height": 34
        }
      },
      "source": [
        "k=r.history['val_accuracy']\n",
        "print('The Validation Accuracy of ANN Model: ', np.mean(k))"
      ],
      "execution_count": 39,
      "outputs": [
        {
          "output_type": "stream",
          "text": [
            "The Validation Accuracy of ANN Model:  0.8474666740298271\n"
          ],
          "name": "stdout"
        }
      ]
    },
    {
      "cell_type": "code",
      "metadata": {
        "id": "6GxfnYqC4TQp",
        "outputId": "b96dbac3-eda2-43f8-b276-3a0159b63efe",
        "colab": {
          "base_uri": "https://localhost:8080/",
          "height": 782
        }
      },
      "source": [
        "yp= model.predict(X_test)\n",
        "yp"
      ],
      "execution_count": 40,
      "outputs": [
        {
          "output_type": "execute_result",
          "data": {
            "text/plain": [
              "array([[5.55601146e-04, 9.03633416e-01, 9.58109424e-02],\n",
              "       [1.73040418e-04, 1.14203796e-01, 8.85623097e-01],\n",
              "       [9.97719467e-01, 2.05828622e-03, 2.22205446e-04],\n",
              "       [1.36442482e-02, 7.84166515e-01, 2.02189237e-01],\n",
              "       [9.96374667e-01, 3.45900725e-03, 1.66342419e-04],\n",
              "       [1.20102696e-03, 9.82497394e-01, 1.63016319e-02],\n",
              "       [6.04945933e-04, 5.96828580e-01, 4.02566463e-01],\n",
              "       [1.45349056e-02, 9.65791941e-01, 1.96732208e-02],\n",
              "       [9.96848643e-01, 2.97194161e-03, 1.79415438e-04],\n",
              "       [6.96385233e-03, 8.31486404e-01, 1.61549687e-01],\n",
              "       [1.35359187e-02, 6.62579060e-01, 3.23885024e-01],\n",
              "       [2.20972332e-04, 1.06031224e-01, 8.93747807e-01],\n",
              "       [1.08281779e-03, 9.17128623e-01, 8.17884952e-02],\n",
              "       [9.86414611e-01, 1.33589478e-02, 2.26447868e-04],\n",
              "       [9.98428881e-01, 1.18483219e-03, 3.86280619e-04],\n",
              "       [1.88879567e-04, 4.94740158e-02, 9.50337052e-01],\n",
              "       [4.49975841e-02, 6.30484462e-01, 3.24517965e-01],\n",
              "       [9.93439496e-01, 6.28751190e-03, 2.72956124e-04],\n",
              "       [9.97351646e-01, 2.13580392e-03, 5.12605126e-04],\n",
              "       [9.95251298e-01, 4.60802484e-03, 1.40723365e-04],\n",
              "       [6.45283653e-05, 2.96253748e-02, 9.70310092e-01],\n",
              "       [3.07938171e-05, 1.89084373e-02, 9.81060743e-01],\n",
              "       [1.31311920e-03, 3.20862204e-01, 6.77824676e-01],\n",
              "       [9.96674776e-01, 2.96962564e-03, 3.55577824e-04],\n",
              "       [1.88939888e-02, 8.11367631e-01, 1.69738397e-01],\n",
              "       [9.96352077e-01, 3.45596788e-03, 1.91953906e-04],\n",
              "       [2.97115501e-02, 9.10438001e-01, 5.98504320e-02],\n",
              "       [3.32474452e-03, 8.86186063e-01, 1.10489182e-01],\n",
              "       [3.68034444e-03, 8.13195288e-01, 1.83124334e-01],\n",
              "       [1.21873381e-04, 3.06638721e-02, 9.69214320e-01],\n",
              "       [8.57138634e-03, 8.91835928e-01, 9.95927304e-02],\n",
              "       [1.25980228e-02, 9.09987509e-01, 7.74144828e-02],\n",
              "       [7.74163404e-04, 2.73007154e-01, 7.26218641e-01],\n",
              "       [4.22148732e-05, 2.36026216e-02, 9.76355135e-01],\n",
              "       [1.23594975e-04, 1.73999652e-01, 8.25876713e-01],\n",
              "       [9.96402502e-01, 3.36601702e-03, 2.31457831e-04],\n",
              "       [3.42277490e-04, 4.68390211e-02, 9.52818692e-01],\n",
              "       [1.00005716e-04, 2.51400974e-02, 9.74759877e-01],\n",
              "       [3.63944025e-07, 2.52411840e-03, 9.97475564e-01],\n",
              "       [3.13007564e-04, 5.19978143e-02, 9.47689176e-01],\n",
              "       [9.94499087e-01, 5.04347216e-03, 4.57342365e-04],\n",
              "       [9.92455602e-01, 6.48508780e-03, 1.05938525e-03],\n",
              "       [6.17343746e-03, 8.59338343e-01, 1.34488314e-01],\n",
              "       [7.57655084e-01, 2.41815567e-01, 5.29390236e-04],\n",
              "       [2.15746164e-02, 6.10881507e-01, 3.67543846e-01]], dtype=float32)"
            ]
          },
          "metadata": {
            "tags": []
          },
          "execution_count": 40
        }
      ]
    },
    {
      "cell_type": "code",
      "metadata": {
        "id": "WIFO38fVBvmV",
        "outputId": "e27ccfdd-9797-4c3c-8b44-a3d28eefb64c",
        "colab": {
          "base_uri": "https://localhost:8080/",
          "height": 68
        }
      },
      "source": [
        "y_pred_labels=np.argmax(yp,axis=1)\n",
        "y_pred_labels"
      ],
      "execution_count": 41,
      "outputs": [
        {
          "output_type": "execute_result",
          "data": {
            "text/plain": [
              "array([1, 2, 0, 1, 0, 1, 1, 1, 0, 1, 1, 2, 1, 0, 0, 2, 1, 0, 0, 0, 2, 2,\n",
              "       2, 0, 1, 0, 1, 1, 1, 2, 1, 1, 2, 2, 2, 0, 2, 2, 2, 2, 0, 0, 1, 0,\n",
              "       1])"
            ]
          },
          "metadata": {
            "tags": []
          },
          "execution_count": 41
        }
      ]
    },
    {
      "cell_type": "code",
      "metadata": {
        "id": "QSwv0VrPCGCN",
        "outputId": "a31f71dd-db38-42d4-998c-2b3402823090",
        "colab": {
          "base_uri": "https://localhost:8080/",
          "height": 34
        }
      },
      "source": [
        "y_pred_count=np.unique(y_pred_labels, return_counts=True)\n",
        "y_pred_count"
      ],
      "execution_count": 42,
      "outputs": [
        {
          "output_type": "execute_result",
          "data": {
            "text/plain": [
              "(array([0, 1, 2]), array([14, 17, 14]))"
            ]
          },
          "metadata": {
            "tags": []
          },
          "execution_count": 42
        }
      ]
    },
    {
      "cell_type": "code",
      "metadata": {
        "id": "XNRup1qNCmUu",
        "outputId": "38f0de00-5689-4903-a4c5-8aeb4151c1b3",
        "colab": {
          "base_uri": "https://localhost:8080/",
          "height": 34
        }
      },
      "source": [
        "y_real_labels=np.argmax(y_test,axis=1)\n",
        "y_real_labels\n",
        "\n",
        "y_real_count=np.unique(y_real_labels, return_counts=True)\n",
        "y_real_count"
      ],
      "execution_count": 43,
      "outputs": [
        {
          "output_type": "execute_result",
          "data": {
            "text/plain": [
              "(array([0, 1, 2]), array([14, 17, 14]))"
            ]
          },
          "metadata": {
            "tags": []
          },
          "execution_count": 43
        }
      ]
    },
    {
      "cell_type": "code",
      "metadata": {
        "id": "3A4HGX9qDGQl",
        "outputId": "30916e9d-4e79-4183-86c9-0687b18fb63b",
        "colab": {
          "base_uri": "https://localhost:8080/",
          "height": 68
        }
      },
      "source": [
        "from sklearn.metrics import confusion_matrix\n",
        "c_m = confusion_matrix(y_real_labels, y_pred_labels)\n",
        "c_m"
      ],
      "execution_count": 44,
      "outputs": [
        {
          "output_type": "execute_result",
          "data": {
            "text/plain": [
              "array([[14,  0,  0],\n",
              "       [ 0, 17,  0],\n",
              "       [ 0,  0, 14]])"
            ]
          },
          "metadata": {
            "tags": []
          },
          "execution_count": 44
        }
      ]
    },
    {
      "cell_type": "code",
      "metadata": {
        "id": "X8EPA0H7FLmH",
        "outputId": "fd5aac35-698c-4693-b0fb-b0176f815342",
        "colab": {
          "base_uri": "https://localhost:8080/",
          "height": 391
        }
      },
      "source": [
        "labels=['setosa', 'versicolor', 'virginica']\n",
        "import seaborn as sns\n",
        "plt.figure(figsize = (6,6))\n",
        "sns.heatmap(c_m,cmap= \"Reds\", linecolor = 'black' , linewidth = 1 , annot = True, fmt='', xticklabels=labels, yticklabels=labels)"
      ],
      "execution_count": 50,
      "outputs": [
        {
          "output_type": "execute_result",
          "data": {
            "text/plain": [
              "<matplotlib.axes._subplots.AxesSubplot at 0x7f6b5be09e48>"
            ]
          },
          "metadata": {
            "tags": []
          },
          "execution_count": 50
        },
        {
          "output_type": "display_data",
          "data": {
            "image/png": "[encoded data removed]",
            "text/plain": [
              "<Figure size 432x432 with 2 Axes>"
            ]
          },
          "metadata": {
            "tags": [],
            "needs_background": "light"
          }
        }
      ]
    },
    {
      "cell_type": "code",
      "metadata": {
        "id": "6iUULDKiRpqK",
        "outputId": "06ef7ed9-7860-460f-de35-713695147ccb",
        "colab": {
          "base_uri": "https://localhost:8080/",
          "height": 187
        }
      },
      "source": [
        "from sklearn.metrics import confusion_matrix , classification_report\n",
        "\n",
        "print(classification_report(y_real_labels,y_pred_labels))\n"
      ],
      "execution_count": 52,
      "outputs": [
        {
          "output_type": "stream",
          "text": [
            "              precision    recall  f1-score   support\n",
            "\n",
            "           0       1.00      1.00      1.00        14\n",
            "           1       1.00      1.00      1.00        17\n",
            "           2       1.00      1.00      1.00        14\n",
            "\n",
            "    accuracy                           1.00        45\n",
            "   macro avg       1.00      1.00      1.00        45\n",
            "weighted avg       1.00      1.00      1.00        45\n",
            "\n"
          ],
          "name": "stdout"
        }
      ]
    },
    {
      "cell_type": "code",
      "metadata": {
        "id": "C2KoF4RnRJgY"
      },
      "source": [
        ""
      ],
      "execution_count": null,
      "outputs": []
    }
  ]
}